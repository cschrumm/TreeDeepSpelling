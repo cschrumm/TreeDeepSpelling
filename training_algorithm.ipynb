{
 "cells": [
  {
   "cell_type": "code",
   "execution_count": 119,
   "metadata": {},
   "outputs": [],
   "source": [
    "import math\n",
    "import random\n",
    "import torch\n",
    "import matplotlib.pyplot as plt\n",
    "from scipy.spatial import distance\n",
    "import itertools\n",
    "import jellyfish\n",
    "import numpy as np"
   ]
  },
  {
   "cell_type": "code",
   "execution_count": 97,
   "metadata": {},
   "outputs": [],
   "source": [
    "%run partial_words.py\n",
    "%run core.py\n",
    "%run imgCls.py"
   ]
  },
  {
   "cell_type": "code",
   "execution_count": 7,
   "metadata": {},
   "outputs": [],
   "source": [
    "def choose_words(nm):\n",
    "    return random.choices(sbst,k=nm)\n",
    "\n"
   ]
  },
  {
   "cell_type": "code",
   "execution_count": 12,
   "metadata": {},
   "outputs": [
    {
     "data": {
      "text/plain": [
       "5000"
      ]
     },
     "execution_count": 12,
     "metadata": {},
     "output_type": "execute_result"
    }
   ],
   "source": [
    "len(choose_words(5000))"
   ]
  },
  {
   "cell_type": "code",
   "execution_count": null,
   "metadata": {},
   "outputs": [],
   "source": [
    "sbst"
   ]
  },
  {
   "cell_type": "code",
   "execution_count": null,
   "metadata": {},
   "outputs": [],
   "source": [
    "spl_Tree = {}"
   ]
  },
  {
   "cell_type": "code",
   "execution_count": 104,
   "metadata": {},
   "outputs": [
    {
     "name": "stdout",
     "output_type": "stream",
     "text": [
      "(1, 2)\n",
      "(1, 3)\n",
      "(1, 4)\n",
      "(1, 5)\n",
      "(2, 1)\n",
      "(2, 3)\n",
      "(2, 4)\n",
      "(2, 5)\n",
      "(3, 1)\n",
      "(3, 2)\n",
      "(3, 4)\n",
      "(3, 5)\n",
      "(4, 1)\n",
      "(4, 2)\n",
      "(4, 3)\n",
      "(4, 5)\n",
      "(5, 1)\n",
      "(5, 2)\n",
      "(5, 3)\n",
      "(5, 4)\n"
     ]
    }
   ],
   "source": [
    "for p in itertools.permutations([1,2,3,4,5],2):\n",
    "    print(p)"
   ]
  },
  {
   "cell_type": "code",
   "execution_count": 51,
   "metadata": {},
   "outputs": [],
   "source": [
    "def messup_words(wrd):\n",
    "    return wrd\n",
    "def get_network(nt_nm):\n",
    "    return None\n",
    "\n",
    "def name_path(name):\n",
    "    return \"./net_data/\" + name + \".bin\"\n",
    "def save_network(ntwrk,name):\n",
    "    nt_path = name_path(name)\n",
    "    torch.save(ntwrk,nt_path)\n",
    "    return\n",
    "\n",
    "def load_network(name):\n",
    "    nt_pth = name_path(name)\n",
    "    return torch.load(nt_pth)\n",
    "\n",
    "\n",
    "def get_category(ntwrk,wrds,btch=64):\n",
    "    ntwrk.eval()\n",
    "    tmp = []\n",
    "    with torch.no_grad():\n",
    "        for b in batch(wrds,btch):\n",
    "            print(b)\n",
    "            bts = word_batch(b)\n",
    "            tn_bts = numpy_to_tensor(bts)\n",
    "            #print(tensor_info(tn_bts))\n",
    "            rslts = ntwrk(tn_bts)\n",
    "            rv = rslts.argmax(dim=1)\n",
    "            print(rv)\n",
    "            tmp.append(rslts.argmax(dim=1).cpu().numpy())\n",
    "        \n",
    "    return np.stack(tmp,axis=0)\n"
   ]
  },
  {
   "cell_type": "code",
   "execution_count": 16,
   "metadata": {},
   "outputs": [],
   "source": [
    "def batch(iterable, n=1):\n",
    "    l = len(iterable)\n",
    "    for ndx in range(0, l, n):\n",
    "        yield iterable[ndx:min(ndx + n, l)]"
   ]
  },
  {
   "cell_type": "code",
   "execution_count": 17,
   "metadata": {},
   "outputs": [],
   "source": [
    "# takes a list of words and returns a batch.\n",
    "def word_batch(wrds):\n",
    "    tmp = []\n",
    "    for wr in wrds:\n",
    "        wrd = encode_word(wr)\n",
    "        wrd = np.expand_dims(wrd,axis=0)\n",
    "        tmp.append(wrd)\n",
    "        \n",
    "    return np.stack(tmp,axis=0)"
   ]
  },
  {
   "cell_type": "code",
   "execution_count": 98,
   "metadata": {},
   "outputs": [
    {
     "name": "stdout",
     "output_type": "stream",
     "text": [
      "normal init..\n",
      "normal init..\n",
      "['Chris', 'Schrumm', 'Programmer', 'Test', 'Nice', 'Some', 'Zero', 'Whatever', 'Mouse', 'Other']\n",
      "tensor([4, 4, 4, 4, 4, 4, 4, 4, 4, 4], device='cuda:0')\n"
     ]
    },
    {
     "data": {
      "text/plain": [
       "array([[4, 4, 4, 4, 4, 4, 4, 4, 4, 4]])"
      ]
     },
     "execution_count": 98,
     "metadata": {},
     "output_type": "execute_result"
    }
   ],
   "source": [
    "im = ImgNet(5)\n",
    "im.apply(custom_init_weights)\n",
    "im = best_move(im)\n",
    "get_category(im,['Chris','Schrumm','Programmer','Test','Nice','Some','Zero','Whatever','Mouse','Other'])"
   ]
  },
  {
   "cell_type": "code",
   "execution_count": 88,
   "metadata": {},
   "outputs": [
    {
     "data": {
      "text/plain": [
       "(device(type='cuda', index=0), torch.Size([3]), torch.int64)"
      ]
     },
     "execution_count": 88,
     "metadata": {},
     "output_type": "execute_result"
    }
   ],
   "source": [
    "tensor_info(numpy_to_tensor(np.array([3,4,5])))"
   ]
  },
  {
   "cell_type": "code",
   "execution_count": 76,
   "metadata": {},
   "outputs": [],
   "source": [
    "ww = word_batch(['Chris','Schrumm'])"
   ]
  },
  {
   "cell_type": "code",
   "execution_count": 77,
   "metadata": {},
   "outputs": [],
   "source": [
    "def display_im(im):\n",
    "    plt.figure(figsize=(25, 150),dpi=80)\n",
    "    plt.imshow(im)"
   ]
  },
  {
   "cell_type": "code",
   "execution_count": 79,
   "metadata": {},
   "outputs": [
    {
     "data": {
      "image/png": "[encoded data removed]",
      "text/plain": [
       "<Figure size 2000x12000 with 1 Axes>"
      ]
     },
     "metadata": {
      "needs_background": "light"
     },
     "output_type": "display_data"
    }
   ],
   "source": [
    "display_im(ww[0][0])"
   ]
  },
  {
   "cell_type": "code",
   "execution_count": 34,
   "metadata": {},
   "outputs": [
    {
     "data": {
      "text/plain": [
       "(device(type='cpu'), torch.Size([3]), torch.int64)"
      ]
     },
     "execution_count": 34,
     "metadata": {},
     "output_type": "execute_result"
    }
   ],
   "source": [
    "tt = numpy_to_tensor(np.array([3,4,5]))\n",
    "tt.to(best_device())\n",
    "tensor_info(tt)"
   ]
  },
  {
   "cell_type": "code",
   "execution_count": 10,
   "metadata": {},
   "outputs": [
    {
     "data": {
      "text/plain": [
       "(2, 1, 3, 256)"
      ]
     },
     "execution_count": 10,
     "metadata": {},
     "output_type": "execute_result"
    }
   ],
   "source": [
    "word_batch([\"chris\",\"schrumm\"]).shape"
   ]
  },
  {
   "cell_type": "code",
   "execution_count": 8,
   "metadata": {},
   "outputs": [],
   "source": [
    "# rtTreeName contains the name of the network to load \n",
    "# avWords (instance of WordManage) contains the list of available words.\n",
    "# wdDic contains the chosen words root network choice\n",
    "# maxDepth\n",
    "def train_and_choose(rtTreeName,avWords,maxDepth,btch_count):\n",
    "    '''\n",
    "    1. Choose N words from avWords min(300,avWords.count)\n",
    "    2. Create a new instance of get_network with rtTreeName\n",
    "    3. For the chosen words do the following\n",
    "        A. find out the category 1 through (category_count) of the words\n",
    "        B. Now for train_batch count modify all the words using the initially selected\n",
    "           word as the target.\n",
    "    4. Now for all words in avWords assign them to on of the (categor_count) categories\n",
    "    5. Save the network.\n",
    "    6. If maxDepth <= 1 return..\n",
    "    7. For 1 to (cagtegory_count) number of categories:\n",
    "            maxDepth = maxDepth - 1\n",
    "            A. Select all the elements of chosen category from the avWords.filter_cat(category)\n",
    "               and append them to a new instance of avWords\n",
    "            B. If there is more then one element in a category...\n",
    "               B1. Recursively call train_and_choose with new avWords category and the sub network\n",
    "                   name netname_ + category_number\n",
    "            \n",
    "    '''\n",
    "    \n",
    "    # step 1\n",
    "    ws = avWords.choose(min(300,avWords.word_count()))\n",
    "    wrk_d = { w : 0 for w in ws }\n",
    "    \n",
    "    # step 2\n",
    "    ntwk = load_network(rtTreeName)\n",
    "    \n",
    "    # step 3 A.\n",
    "    for w in ws:\n",
    "        # get the category for the word.\n",
    "        cat = get_category(ntwk,w)\n",
    "        wrk_d[w] = cat\n",
    "    \n",
    "    for i in range(btch_count):\n",
    "        for w in ws:\n",
    "            # modify the word\n",
    "            mw,cat = (messup_word(w),wrk_d[w])\n",
    "            \n",
    "    # step 6\n",
    "    if maxDepth <= 1:\n",
    "        return\n",
    "    \n",
    "    return\n",
    "\n",
    "def spell_word(word,nd,wrList):\n",
    "    '''\n",
    "       NOT FINISHED...\n",
    "       1. Load the network name.\n",
    "       2. Find category for the word in the network.\n",
    "       3. If wrList.has_more_one(category)\n",
    "            with spell_word with word and netname_ + category_number\n",
    "          elif wrList.has_one(category):\n",
    "            \n",
    "           \n",
    "    '''\n",
    "    pass"
   ]
  },
  {
   "cell_type": "code",
   "execution_count": 13,
   "metadata": {},
   "outputs": [
    {
     "data": {
      "text/plain": [
       "30000"
      ]
     },
     "execution_count": 13,
     "metadata": {},
     "output_type": "execute_result"
    }
   ],
   "source": [
    "60*50*10"
   ]
  },
  {
   "cell_type": "code",
   "execution_count": 74,
   "metadata": {},
   "outputs": [],
   "source": []
  },
  {
   "cell_type": "code",
   "execution_count": 105,
   "metadata": {},
   "outputs": [],
   "source": [
    "wrl = WordManage()"
   ]
  },
  {
   "cell_type": "code",
   "execution_count": 106,
   "metadata": {},
   "outputs": [],
   "source": [
    "wrl.set_words(sbst,0)"
   ]
  },
  {
   "cell_type": "code",
   "execution_count": 107,
   "metadata": {},
   "outputs": [
    {
     "data": {
      "text/plain": [
       "1525"
      ]
     },
     "execution_count": 107,
     "metadata": {},
     "output_type": "execute_result"
    }
   ],
   "source": [
    "wrl.word_count()"
   ]
  },
  {
   "cell_type": "code",
   "execution_count": 221,
   "metadata": {},
   "outputs": [],
   "source": [
    "def remove_letter(wd):\n",
    "    if len(wd) < 5:\n",
    "        return wd\n",
    "    cs = random.randint(0,len(wd)-1)\n",
    "    return wd[0:cs] + wd[cs+1:]\n",
    "\n",
    "def swap_letter(wd):\n",
    "    if len(wd) < 3:\n",
    "        return wd\n",
    "    cs = random.randint(0,len(wd)-2)\n",
    "    wd = [w for w in wd]\n",
    "    t = wd[cs]\n",
    "    wd[cs] = wd[cs+1]\n",
    "    wd[cs+1] = t\n",
    "    \n",
    "    tmp = \"\"\n",
    "    for w in wd:\n",
    "        tmp += w\n",
    "        \n",
    "    return tmp\n",
    "\n",
    "def change_letter(wd):    \n",
    "    if len(wd) < 4:\n",
    "        return wd\n",
    "    \n",
    "    alpha = ['a','b','c','d','e','f','g', \\\n",
    "        'h','i','j','k','l','m','n','o','p','q','r', \\\n",
    "        's','t','u','v','w','x','y','z']\n",
    "    cs = random.randint(0,len(wd)-1)\n",
    "\n",
    "    wd = [w for w in wd]\n",
    "    \n",
    "    wd[cs] = alpha[random.randint(0,25)]\n",
    "    \n",
    "    tmp = \"\"\n",
    "    for w in wd:\n",
    "        tmp += w\n",
    "        \n",
    "    return tmp\n",
    "\n",
    "def drop_letter(wd):\n",
    "    if len(wd) < 5:\n",
    "        return wd\n",
    "    cs = random.randint(0,len(wd)-2)\n",
    "    \n",
    "    wd = [w for w in wd]\n",
    "    \n",
    "    wd[cs] = ' '\n",
    "    \n",
    "    tmp = \"\"\n",
    "    for w in wd:\n",
    "        tmp += w\n",
    "        \n",
    "    return tmp   \n",
    "\n",
    "def add_letter(wd):\n",
    "    if len(wd) < 3:\n",
    "        return wd\n",
    "    \n",
    "    #print(\"add letter\")\n",
    "    cs = random.randint(0,len(wd)-2)\n",
    "    \n",
    "    #wd = [w for w in wd]\n",
    "    \n",
    "    alpha = ['a','b','c','d','e','f','g', \\\n",
    "        'h','i','j','k','l','m','n','o','p','q','r', \\\n",
    "        's','t','u','v','w','x','y','z']\n",
    "    \n",
    "    #ln = len(wd)\n",
    "    wd = wd[0:cs] + alpha[random.randint(0,25)] + wd[cs:] \n",
    "           \n",
    "    return wd \n",
    "\n",
    "\n",
    "def word_mix(wd):\n",
    "    fc_ar = [remove_letter,swap_letter,change_letter,drop_letter,add_letter]\n",
    "    \n",
    "    wd = fc_ar[random.randint(0,4)](wd)\n",
    "    \n",
    "    if random.random() < 0.4:\n",
    "        wd = fc_ar[random.randint(0,4)](wd)\n",
    "        \n",
    "    if random.random() < 0.3:\n",
    "        wd = fc_ar[random.randint(0,4)](wd)\n",
    "        \n",
    "    if random.random() < 0.2:\n",
    "        wd = fc_ar[random.randint(0,4)](wd)\n",
    "        \n",
    "    return wd\n"
   ]
  },
  {
   "cell_type": "code",
   "execution_count": 205,
   "metadata": {},
   "outputs": [
    {
     "name": "stdout",
     "output_type": "stream",
     "text": [
      "chris\n"
     ]
    }
   ],
   "source": [
    "nn = \"chris\"\n",
    "print(nn[0:3] + nn[3:])"
   ]
  },
  {
   "cell_type": "code",
   "execution_count": 220,
   "metadata": {},
   "outputs": [
    {
     "name": "stdout",
     "output_type": "stream",
     "text": [
      "14\n",
      "transporta ion    14\n",
      "transpportation    15\n",
      "transport tion    14\n",
      "transportatcion    15\n",
      " rans p tation    14\n",
      "t asportation    13\n",
      "transpportatiqn    15\n",
      "tpransoprtation    15\n",
      "tansp rtation    13\n",
      "trnlasportation    15\n",
      "tqansportatio    13\n",
      "transportagion    14\n",
      "transport  ion    14\n",
      "t ansportation    14\n",
      "yransportation    14\n",
      "trazsportation    14\n",
      "transportatdob    14\n",
      "trmansportatijn    15\n",
      "transporation    13\n",
      "ctransportation    15\n",
      "tr nsportation    14\n",
      " arnsportation    14\n",
      "trntportation    13\n",
      "trlansportation    15\n",
      "transportatjion    15\n",
      "transqportation    15\n",
      "transpo rati n    14\n",
      "transpritation    14\n",
      "transporattion    14\n",
      "vrrnsportation    14\n",
      "transpotratiol    14\n",
      "transporation    13\n",
      "transmportatin    14\n",
      "trangspiortation    16\n",
      "t nsportation    13\n",
      "transportjtion    14\n",
      "transfortation    14\n",
      "rtnsportation    13\n",
      "trhanspoktation    15\n",
      "trns rtatifon    13\n",
      "trsnportation    13\n",
      "transposrtation    15\n",
      "tratlportaiton    14\n",
      "tqanlsportation    15\n",
      "ransportation    13\n",
      "transportatiol    14\n",
      "tranjpoxrtation    15\n",
      "ransportation    13\n",
      "trns orttion    12\n",
      "aransportation    14\n",
      "tr ntporattion    14\n",
      "trannsportation    15\n",
      "tran portation    14\n",
      "trans ortation    14\n",
      "transportatoin    14\n",
      "trannsportation    15\n",
      "transpyortation    15\n",
      "trnaspaortation    15\n",
      "transpuoration    14\n",
      "trnasportation    14\n",
      "transportatirn    14\n",
      "transpor rtion    14\n",
      "trasnportat on    14\n",
      "trasnportation    14\n",
      "trznsportati n    14\n",
      "tarnsportation    14\n",
      "trjanspotration    15\n",
      "traxnsprtation    14\n",
      "trap rotation    13\n",
      "tsransporthatlion    17\n",
      "transportatoi    13\n",
      "transpotration    14\n",
      "transpotat on    13\n",
      "transpo tation    14\n",
      "transpottation    14\n",
      "transomtation    13\n",
      "tranpsortation    14\n",
      "t ana portation    15\n",
      "trasnsportation    15\n",
      "trvnasportation    15\n",
      "transsportation    15\n",
      "transorat idon    14\n",
      "t dansportation    15\n",
      "t ansporttion    13\n",
      " ransportatio    13\n",
      "tarnsporta ion    14\n",
      "trasportat on    13\n",
      "transporttaiun    14\n",
      "t ansportation    14\n",
      "trynspoftation    14\n",
      "transporta ion    14\n",
      " tansportation    14\n",
      "transpxoratifn    14\n",
      "transporta gon    14\n",
      "transprotsat on    15\n",
      "transportatin    13\n",
      "ransporta ion    13\n",
      "traynsportation    15\n",
      "transportatiov    14\n",
      "tsranspojzation    15\n"
     ]
    }
   ],
   "source": [
    "s = \"transportation\"\n",
    "print(len(s))\n",
    "\n",
    "for i in range(100):    \n",
    "    nw_s = word_mix(s)\n",
    "    print(nw_s,\"  \",len(nw_s))\n"
   ]
  },
  {
   "cell_type": "code",
   "execution_count": 147,
   "metadata": {},
   "outputs": [
    {
     "name": "stdout",
     "output_type": "stream",
     "text": [
      "2\n",
      "1\n",
      "0\n",
      "3\n",
      "4\n",
      "4\n",
      "4\n",
      "1\n",
      "4\n",
      "0\n",
      "1\n",
      "4\n",
      "3\n",
      "0\n",
      "2\n",
      "2\n",
      "1\n",
      "3\n",
      "4\n",
      "2\n",
      "2\n",
      "2\n",
      "3\n",
      "3\n",
      "0\n",
      "2\n",
      "1\n",
      "0\n",
      "0\n",
      "2\n"
     ]
    }
   ],
   "source": [
    "for i in range(30):\n",
    "    print(random.randint(0,4))"
   ]
  },
  {
   "cell_type": "code",
   "execution_count": 141,
   "metadata": {},
   "outputs": [],
   "source": [
    "def total_string_distance(t):\n",
    "    tmp = []\n",
    "    for a,b in itertools.permutations(t,2):\n",
    "        tmp.append(jellyfish.damerau_levenshtein_distance(a,b) ** 2)        \n",
    "    return sum(tmp)\n",
    "\n",
    "def choose_spread_combo(nm,wrl):\n",
    "    bts = []\n",
    "    sms = []\n",
    "    for i in range(75):\n",
    "        t = wrl.choose_words(nm)\n",
    "        bts.append(t)\n",
    "        sms.append(total_string_distance(t))\n",
    "    # print(sms,np.argmax(sms))\n",
    "    return bts[np.argmax(sms)]\n",
    "            \n",
    "        "
   ]
  },
  {
   "cell_type": "code",
   "execution_count": 142,
   "metadata": {},
   "outputs": [
    {
     "data": {
      "text/plain": [
       "['platform', 'buddy', 'moment', 'administration', 'profile']"
      ]
     },
     "execution_count": 142,
     "metadata": {},
     "output_type": "execute_result"
    }
   ],
   "source": [
    "choose_spread_combo(5,wrl)"
   ]
  },
  {
   "cell_type": "code",
   "execution_count": 24,
   "metadata": {},
   "outputs": [
    {
     "data": {
      "text/plain": [
       "[2, 9, 3]"
      ]
     },
     "execution_count": 24,
     "metadata": {},
     "output_type": "execute_result"
    }
   ],
   "source": [
    "random.sample([2,3,4,5,6,9],3)"
   ]
  },
  {
   "cell_type": "code",
   "execution_count": 59,
   "metadata": {},
   "outputs": [],
   "source": [
    "wrl.set_category('bike',2)\n",
    "wrl.set_category('cause',2)\n",
    "wrl.set_category('clerk',2)"
   ]
  },
  {
   "cell_type": "code",
   "execution_count": 61,
   "metadata": {},
   "outputs": [],
   "source": [
    "l = wrl.filter_list(2)"
   ]
  },
  {
   "cell_type": "code",
   "execution_count": 65,
   "metadata": {},
   "outputs": [
    {
     "data": {
      "text/plain": [
       "['clerk', 'cause', 'bike']"
      ]
     },
     "execution_count": 65,
     "metadata": {},
     "output_type": "execute_result"
    }
   ],
   "source": [
    "l.choose_words(3)"
   ]
  },
  {
   "cell_type": "code",
   "execution_count": null,
   "metadata": {},
   "outputs": [],
   "source": []
  }
 ],
 "metadata": {
  "kernelspec": {
   "display_name": "Python 3",
   "language": "python",
   "name": "python3"
  },
  "language_info": {
   "codemirror_mode": {
    "name": "ipython",
    "version": 3
   },
   "file_extension": ".py",
   "mimetype": "text/x-python",
   "name": "python",
   "nbconvert_exporter": "python",
   "pygments_lexer": "ipython3",
   "version": "3.7.3"
  }
 },
 "nbformat": 4,
 "nbformat_minor": 2
}
