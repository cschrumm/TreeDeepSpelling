{
 "cells": [
  {
   "cell_type": "code",
   "execution_count": null,
   "metadata": {},
   "outputs": [],
   "source": [
    "import math\n",
    "import random\n",
    "import torch\n",
    "import matplotlib.pyplot as plt\n",
    "from scipy.spatial import distance\n",
    "import itertools\n",
    "import jellyfish\n",
    "import numpy as np"
   ]
  },
  {
   "cell_type": "code",
   "execution_count": null,
   "metadata": {},
   "outputs": [],
   "source": [
    "%run partial_words.py\n",
    "%run core.py\n",
    "%run imgCls.py"
   ]
  },
  {
   "cell_type": "code",
   "execution_count": null,
   "metadata": {},
   "outputs": [],
   "source": [
    "def choose_words(nm):\n",
    "    return random.choices(sbst,k=nm)\n",
    "\n"
   ]
  },
  {
   "cell_type": "code",
   "execution_count": null,
   "metadata": {},
   "outputs": [],
   "source": [
    "len(choose_words(5000))"
   ]
  },
  {
   "cell_type": "code",
   "execution_count": null,
   "metadata": {},
   "outputs": [],
   "source": [
    "sbst"
   ]
  },
  {
   "cell_type": "code",
   "execution_count": null,
   "metadata": {},
   "outputs": [],
   "source": [
    "spl_Tree = {}"
   ]
  },
  {
   "cell_type": "code",
   "execution_count": null,
   "metadata": {},
   "outputs": [],
   "source": [
    "for p in itertools.permutations([1,2,3,4,5],2):\n",
    "    print(p)"
   ]
  },
  {
   "cell_type": "code",
   "execution_count": null,
   "metadata": {},
   "outputs": [],
   "source": [
    "\n",
    "def name_path(name):\n",
    "    return \"./net_data/\" + name + \".bin\"\n",
    "def save_network(ntwrk,name):\n",
    "    nt_path = name_path(name)\n",
    "    torch.save(ntwrk.state_dict(),nt_path)\n",
    "    return\n",
    "\n",
    "def load_network(name):\n",
    "    nt_pth = name_path(name)\n",
    "    return torch.load(nt_pth)\n",
    "\n"
   ]
  },
  {
   "cell_type": "code",
   "execution_count": null,
   "metadata": {},
   "outputs": [],
   "source": [
    "def test_words(wrds):\n",
    "    wrl = WordManage()\n",
    "    wrl.set_words(wrds,0)\n",
    "    mdl = build_choose_and_train(wrl,dbg=True,out_cat=5)\n",
    "    wrds = wrl.all_words()\n",
    "    cats = get_category(mdl,wrds,dbg=True)\n",
    "    print(\"categories... \",cats)\n",
    "    return"
   ]
  },
  {
   "cell_type": "code",
   "execution_count": null,
   "metadata": {},
   "outputs": [],
   "source": [
    "test_wrds =['food', 'wood']\n",
    "10 % 20"
   ]
  },
  {
   "cell_type": "code",
   "execution_count": null,
   "metadata": {},
   "outputs": [],
   "source": [
    "test_words(test_wrds)"
   ]
  },
  {
   "cell_type": "code",
   "execution_count": null,
   "metadata": {},
   "outputs": [],
   "source": []
  },
  {
   "cell_type": "code",
   "execution_count": null,
   "metadata": {},
   "outputs": [],
   "source": [
    "im = ImgNet(5)\n",
    "im.apply(custom_init_weights)\n",
    "im = best_move(im)\n",
    "get_category(im,['Chris','Schrumm','Programmer','Test','Nice','Some','Zero','Whatever','Mouse','Other'])"
   ]
  },
  {
   "cell_type": "code",
   "execution_count": null,
   "metadata": {},
   "outputs": [],
   "source": [
    "tensor_info(numpy_to_tensor(np.array([3,4,5])))"
   ]
  },
  {
   "cell_type": "code",
   "execution_count": null,
   "metadata": {},
   "outputs": [],
   "source": [
    "ww = word_batch(['Chris','Schrumm'])"
   ]
  },
  {
   "cell_type": "code",
   "execution_count": null,
   "metadata": {},
   "outputs": [],
   "source": [
    "def display_im(im):\n",
    "    plt.figure(figsize=(25, 150),dpi=80)\n",
    "    plt.imshow(im)"
   ]
  },
  {
   "cell_type": "code",
   "execution_count": null,
   "metadata": {},
   "outputs": [],
   "source": [
    "display_im(ww[0][0])"
   ]
  },
  {
   "cell_type": "code",
   "execution_count": null,
   "metadata": {},
   "outputs": [],
   "source": [
    "tt = numpy_to_tensor(np.array([3,4,5]))\n",
    "tt.to(best_device())\n",
    "tensor_info(tt)"
   ]
  },
  {
   "cell_type": "code",
   "execution_count": null,
   "metadata": {},
   "outputs": [],
   "source": [
    "word_batch([\"chris\",\"schrumm\"]).shape"
   ]
  },
  {
   "cell_type": "code",
   "execution_count": 147,
   "metadata": {},
   "outputs": [],
   "source": [
    "# rtTreeName contains the name of the network to load \n",
    "# avWords (instance of WordManage) contains the list of available words.\n",
    "# wdDic contains the chosen words root network choice\n",
    "# maxDepth\n",
    "def train_and_choose(rtTreeName, avWords, wdDic, maxDepth, btch_count):\n",
    "    '''\n",
    "    \n",
    "    '''\n",
    "    print(\"train tree..\")\n",
    "    mdl = build_choose_and_train(avWords)\n",
    "   \n",
    "    # write the code to save the model..\n",
    "    save_network(mdl,rtTreeName)\n",
    "\n",
    "    all_wrds = avWords.all_words()\n",
    "\n",
    "    #print(type(all_wrds),\"      \",type(all_wrds[0]))\n",
    "\n",
    "    cat_w = get_category(mdl,all_wrds)\n",
    "\n",
    "    for i,wrd in enumerate(all_wrds):\n",
    "        #print(wrd,\"  \",cat_w[i])\n",
    "        avWords.set_category(wrd,cat_w[i])\n",
    "   \n",
    "    if maxDepth <= 0:\n",
    "        print(\"max depth exceeded..\")\n",
    "        return\n",
    "\n",
    "    for i in range(5):\n",
    "        sb_tree = rtTreeName + \"_\" + str(i)\n",
    "        nw_wrl = avWords.filter_list(i)\n",
    "        \n",
    "        for w in nw_wrl.all_words():\n",
    "            wdDic[w] = sb_tree\n",
    "    \n",
    "        print(\"category \",i,\" total word count \",len(nw_wrl.all_words()))\n",
    "    \n",
    "        # recurse..\n",
    "        wrds = nw_wrl.all_words()\n",
    "        if len(wrds) > 1:\n",
    "            # recurse..\n",
    "            print(\"recursing on \",sb_tree,\" total words.. \", len(wrds))    \n",
    "            if len(wrds) < 5:\n",
    "                print(\"Words..\",wrds)\n",
    "            train_and_choose(sb_tree, nw_wrl, wdDic, maxDepth - 1, btch_count)\n",
    "    return\n",
    "\n",
    "\n",
    "def spell_word(word,ntwrk_name,mmp,dr):\n",
    "     \n",
    "    \n",
    "    # load the network\n",
    "    mdl = best_move(ImgNet(5))\n",
    "       \n",
    "    dr = \"/\" + ntwrk_name + \".bin\"\n",
    "    \n",
    "    nt = torch.load(dr)\n",
    "    \n",
    "    load_data_into(mdl,dr)\n",
    "    \n",
    "    \n",
    "    cats = get_category(mdl,wrds,dbg=True)\n",
    "    \n",
    "    print(cats)\n",
    "    \n",
    "    word = \"\"\n",
    "    if len(word) > 0:\n",
    "        return word\n",
    "    \n",
    "    \n",
    "    # word = [k for k,v in mmp if v == brtch]"
   ]
  },
  {
   "cell_type": "code",
   "execution_count": null,
   "metadata": {},
   "outputs": [],
   "source": [
    "mpp = load_json(\"word_tree_mapping.json\")\n",
    "mpp "
   ]
  },
  {
   "cell_type": "code",
   "execution_count": 148,
   "metadata": {},
   "outputs": [
    {
     "ename": "FileNotFoundError",
     "evalue": "[Errno 2] No such file or directory: './net_data//mdl_spelling.bin.bin'",
     "output_type": "error",
     "traceback": [
      "\u001b[0;31m---------------------------------------------------------------------------\u001b[0m",
      "\u001b[0;31mFileNotFoundError\u001b[0m                         Traceback (most recent call last)",
      "\u001b[0;32m<ipython-input-148-8d984d3e2103>\u001b[0m in \u001b[0;36m<module>\u001b[0;34m\u001b[0m\n\u001b[0;32m----> 1\u001b[0;31m \u001b[0mspell_word\u001b[0m\u001b[0;34m(\u001b[0m\u001b[0;34m\"love\"\u001b[0m\u001b[0;34m,\u001b[0m\u001b[0;34m\"mdl_spelling\"\u001b[0m\u001b[0;34m,\u001b[0m\u001b[0mmpp\u001b[0m\u001b[0;34m,\u001b[0m\u001b[0;34m\"./net_data\"\u001b[0m\u001b[0;34m)\u001b[0m\u001b[0;34m\u001b[0m\u001b[0;34m\u001b[0m\u001b[0m\n\u001b[0m",
      "\u001b[0;32m<ipython-input-147-27904fc74403>\u001b[0m in \u001b[0;36mspell_word\u001b[0;34m(word, ntwrk_name, mmp, dr)\u001b[0m\n\u001b[1;32m     54\u001b[0m \u001b[0;34m\u001b[0m\u001b[0m\n\u001b[1;32m     55\u001b[0m     \u001b[0mdr\u001b[0m \u001b[0;34m=\u001b[0m \u001b[0;34m\"/\"\u001b[0m \u001b[0;34m+\u001b[0m \u001b[0mntwrk_name\u001b[0m \u001b[0;34m+\u001b[0m \u001b[0;34m\".bin\"\u001b[0m\u001b[0;34m\u001b[0m\u001b[0;34m\u001b[0m\u001b[0m\n\u001b[0;32m---> 56\u001b[0;31m     \u001b[0mload_data_into\u001b[0m\u001b[0;34m(\u001b[0m\u001b[0mmdl\u001b[0m\u001b[0;34m,\u001b[0m\u001b[0mdr\u001b[0m\u001b[0;34m)\u001b[0m\u001b[0;34m\u001b[0m\u001b[0;34m\u001b[0m\u001b[0m\n\u001b[0m\u001b[1;32m     57\u001b[0m \u001b[0;34m\u001b[0m\u001b[0m\n\u001b[1;32m     58\u001b[0m \u001b[0;34m\u001b[0m\u001b[0m\n",
      "\u001b[0;32m~/Documents/mycode/research/TreeDeepSpelling/core.py\u001b[0m in \u001b[0;36mload_data_into\u001b[0;34m(model, name)\u001b[0m\n\u001b[1;32m    267\u001b[0m \u001b[0;34m\u001b[0m\u001b[0m\n\u001b[1;32m    268\u001b[0m \u001b[0;32mdef\u001b[0m \u001b[0mload_data_into\u001b[0m\u001b[0;34m(\u001b[0m\u001b[0mmodel\u001b[0m\u001b[0;34m,\u001b[0m\u001b[0mname\u001b[0m\u001b[0;34m)\u001b[0m\u001b[0;34m:\u001b[0m\u001b[0;34m\u001b[0m\u001b[0;34m\u001b[0m\u001b[0m\n\u001b[0;32m--> 269\u001b[0;31m     \u001b[0mmodel\u001b[0m\u001b[0;34m.\u001b[0m\u001b[0mload_state_dict\u001b[0m\u001b[0;34m(\u001b[0m\u001b[0mload_network\u001b[0m\u001b[0;34m(\u001b[0m\u001b[0mname\u001b[0m\u001b[0;34m)\u001b[0m\u001b[0;34m)\u001b[0m\u001b[0;34m\u001b[0m\u001b[0;34m\u001b[0m\u001b[0m\n\u001b[0m\u001b[1;32m    270\u001b[0m     \u001b[0mmodel\u001b[0m\u001b[0;34m.\u001b[0m\u001b[0meval\u001b[0m\u001b[0;34m(\u001b[0m\u001b[0;34m)\u001b[0m\u001b[0;34m\u001b[0m\u001b[0;34m\u001b[0m\u001b[0m\n\u001b[1;32m    271\u001b[0m     \u001b[0;32mreturn\u001b[0m\u001b[0;34m\u001b[0m\u001b[0;34m\u001b[0m\u001b[0m\n",
      "\u001b[0;32m~/Documents/mycode/research/TreeDeepSpelling/core.py\u001b[0m in \u001b[0;36mload_network\u001b[0;34m(name)\u001b[0m\n\u001b[1;32m    263\u001b[0m \u001b[0;32mdef\u001b[0m \u001b[0mload_network\u001b[0m\u001b[0;34m(\u001b[0m\u001b[0mname\u001b[0m\u001b[0;34m)\u001b[0m\u001b[0;34m:\u001b[0m\u001b[0;34m\u001b[0m\u001b[0;34m\u001b[0m\u001b[0m\n\u001b[1;32m    264\u001b[0m     \u001b[0mnt_pth\u001b[0m \u001b[0;34m=\u001b[0m \u001b[0mname_path\u001b[0m\u001b[0;34m(\u001b[0m\u001b[0mname\u001b[0m\u001b[0;34m)\u001b[0m\u001b[0;34m\u001b[0m\u001b[0;34m\u001b[0m\u001b[0m\n\u001b[0;32m--> 265\u001b[0;31m     \u001b[0;32mreturn\u001b[0m \u001b[0mtorch\u001b[0m\u001b[0;34m.\u001b[0m\u001b[0mload\u001b[0m\u001b[0;34m(\u001b[0m\u001b[0mnt_pth\u001b[0m\u001b[0;34m)\u001b[0m\u001b[0;34m\u001b[0m\u001b[0;34m\u001b[0m\u001b[0m\n\u001b[0m\u001b[1;32m    266\u001b[0m \u001b[0;34m\u001b[0m\u001b[0m\n\u001b[1;32m    267\u001b[0m \u001b[0;34m\u001b[0m\u001b[0m\n",
      "\u001b[0;32m~/anaconda3/lib/python3.7/site-packages/torch/serialization.py\u001b[0m in \u001b[0;36mload\u001b[0;34m(f, map_location, pickle_module, **pickle_load_args)\u001b[0m\n\u001b[1;32m    417\u001b[0m             \u001b[0;34m(\u001b[0m\u001b[0msys\u001b[0m\u001b[0;34m.\u001b[0m\u001b[0mversion_info\u001b[0m\u001b[0;34m[\u001b[0m\u001b[0;36m0\u001b[0m\u001b[0;34m]\u001b[0m \u001b[0;34m==\u001b[0m \u001b[0;36m2\u001b[0m \u001b[0;32mand\u001b[0m \u001b[0misinstance\u001b[0m\u001b[0;34m(\u001b[0m\u001b[0mf\u001b[0m\u001b[0;34m,\u001b[0m \u001b[0municode\u001b[0m\u001b[0;34m)\u001b[0m\u001b[0;34m)\u001b[0m\u001b[0;34m:\u001b[0m\u001b[0;34m\u001b[0m\u001b[0;34m\u001b[0m\u001b[0m\n\u001b[1;32m    418\u001b[0m         \u001b[0mnew_fd\u001b[0m \u001b[0;34m=\u001b[0m \u001b[0;32mTrue\u001b[0m\u001b[0;34m\u001b[0m\u001b[0;34m\u001b[0m\u001b[0m\n\u001b[0;32m--> 419\u001b[0;31m         \u001b[0mf\u001b[0m \u001b[0;34m=\u001b[0m \u001b[0mopen\u001b[0m\u001b[0;34m(\u001b[0m\u001b[0mf\u001b[0m\u001b[0;34m,\u001b[0m \u001b[0;34m'rb'\u001b[0m\u001b[0;34m)\u001b[0m\u001b[0;34m\u001b[0m\u001b[0;34m\u001b[0m\u001b[0m\n\u001b[0m\u001b[1;32m    420\u001b[0m     \u001b[0;32melif\u001b[0m \u001b[0;34m(\u001b[0m\u001b[0msys\u001b[0m\u001b[0;34m.\u001b[0m\u001b[0mversion_info\u001b[0m\u001b[0;34m[\u001b[0m\u001b[0;36m0\u001b[0m\u001b[0;34m]\u001b[0m \u001b[0;34m==\u001b[0m \u001b[0;36m3\u001b[0m \u001b[0;32mand\u001b[0m \u001b[0misinstance\u001b[0m\u001b[0;34m(\u001b[0m\u001b[0mf\u001b[0m\u001b[0;34m,\u001b[0m \u001b[0mpathlib\u001b[0m\u001b[0;34m.\u001b[0m\u001b[0mPath\u001b[0m\u001b[0;34m)\u001b[0m\u001b[0;34m)\u001b[0m\u001b[0;34m:\u001b[0m\u001b[0;34m\u001b[0m\u001b[0;34m\u001b[0m\u001b[0m\n\u001b[1;32m    421\u001b[0m         \u001b[0mnew_fd\u001b[0m \u001b[0;34m=\u001b[0m \u001b[0;32mTrue\u001b[0m\u001b[0;34m\u001b[0m\u001b[0;34m\u001b[0m\u001b[0m\n",
      "\u001b[0;31mFileNotFoundError\u001b[0m: [Errno 2] No such file or directory: './net_data//mdl_spelling.bin.bin'"
     ]
    }
   ],
   "source": [
    "spell_word(\"love\",\"mdl_spelling\",mpp,\"./net_data\")"
   ]
  },
  {
   "cell_type": "code",
   "execution_count": null,
   "metadata": {},
   "outputs": [],
   "source": [
    "save_json(dcMapping,\"word_tree_mapping.json\")"
   ]
  },
  {
   "cell_type": "code",
   "execution_count": null,
   "metadata": {},
   "outputs": [],
   "source": [
    "def save_json(sjn,flnm):\n",
    "    data = json.dumps(sjn)\n",
    "    with open(flnm,\"w\") as fl:\n",
    "        fl.write(data)\n",
    "    return\n",
    "def load_json(flnm):\n",
    "    data = None\n",
    "    with open(flnm,\"r\") as fl:\n",
    "        data = fl.read()\n",
    "    return json.loads(data)\n",
    "    "
   ]
  },
  {
   "cell_type": "code",
   "execution_count": null,
   "metadata": {},
   "outputs": [],
   "source": [
    "rt_name = \"mdl_spelling\"\n",
    "dcMapping = {}\n",
    "maxDepth = 30\n",
    "btch_size = 128\n",
    "\n",
    "train_and_choose(rt_name,wrl,dcMapping,maxDepth,btch_size)\n"
   ]
  },
  {
   "cell_type": "code",
   "execution_count": null,
   "metadata": {},
   "outputs": [],
   "source": []
  },
  {
   "cell_type": "code",
   "execution_count": null,
   "metadata": {},
   "outputs": [],
   "source": [
    "wrl = WordManage()"
   ]
  },
  {
   "cell_type": "code",
   "execution_count": null,
   "metadata": {},
   "outputs": [],
   "source": [
    "wrl.set_words(sbst,0)"
   ]
  },
  {
   "cell_type": "code",
   "execution_count": null,
   "metadata": {},
   "outputs": [],
   "source": [
    "wrl.word_count()"
   ]
  },
  {
   "cell_type": "code",
   "execution_count": null,
   "metadata": {},
   "outputs": [],
   "source": [
    "def remove_letter(wd):\n",
    "    if len(wd) < 5:\n",
    "        return wd\n",
    "    cs = random.randint(0,len(wd)-1)\n",
    "    return wd[0:cs] + wd[cs+1:]\n",
    "\n",
    "def swap_letter(wd):\n",
    "    if len(wd) < 3:\n",
    "        return wd\n",
    "    cs = random.randint(0,len(wd)-2)\n",
    "    wd = [w for w in wd]\n",
    "    t = wd[cs]\n",
    "    wd[cs] = wd[cs+1]\n",
    "    wd[cs+1] = t\n",
    "    \n",
    "    tmp = \"\"\n",
    "    for w in wd:\n",
    "        tmp += w\n",
    "        \n",
    "    return tmp\n",
    "\n",
    "def change_letter(wd):    \n",
    "    if len(wd) < 4:\n",
    "        return wd\n",
    "    \n",
    "    alpha = ['a','b','c','d','e','f','g', \\\n",
    "        'h','i','j','k','l','m','n','o','p','q','r', \\\n",
    "        's','t','u','v','w','x','y','z']\n",
    "    cs = random.randint(0,len(wd)-1)\n",
    "\n",
    "    wd = [w for w in wd]\n",
    "    \n",
    "    wd[cs] = alpha[random.randint(0,25)]\n",
    "    \n",
    "    tmp = \"\"\n",
    "    for w in wd:\n",
    "        tmp += w\n",
    "        \n",
    "    return tmp\n",
    "\n",
    "def drop_letter(wd):\n",
    "    if len(wd) < 5:\n",
    "        return wd\n",
    "    cs = random.randint(0,len(wd)-2)\n",
    "    \n",
    "    wd = [w for w in wd]\n",
    "    \n",
    "    wd[cs] = ' '\n",
    "    \n",
    "    tmp = \"\"\n",
    "    for w in wd:\n",
    "        tmp += w\n",
    "        \n",
    "    return tmp   \n",
    "\n",
    "def add_letter(wd):\n",
    "    if len(wd) < 3:\n",
    "        return wd\n",
    "    \n",
    "    #print(\"add letter\")\n",
    "    cs = random.randint(0,len(wd)-2)\n",
    "    \n",
    "    #wd = [w for w in wd]\n",
    "    \n",
    "    alpha = ['a','b','c','d','e','f','g', \\\n",
    "        'h','i','j','k','l','m','n','o','p','q','r', \\\n",
    "        's','t','u','v','w','x','y','z']\n",
    "    \n",
    "    #ln = len(wd)\n",
    "    wd = wd[0:cs] + alpha[random.randint(0,25)] + wd[cs:] \n",
    "           \n",
    "    return wd \n",
    "\n",
    "\n",
    "def word_mix(wd):\n",
    "    fc_ar = [remove_letter,swap_letter,change_letter,drop_letter,add_letter]\n",
    "    \n",
    "    wd = fc_ar[random.randint(0,4)](wd)\n",
    "    \n",
    "    if random.random() < 0.4:\n",
    "        wd = fc_ar[random.randint(0,4)](wd)\n",
    "        \n",
    "    if random.random() < 0.3:\n",
    "        wd = fc_ar[random.randint(0,4)](wd)\n",
    "        \n",
    "    if random.random() < 0.2:\n",
    "        wd = fc_ar[random.randint(0,4)](wd)\n",
    "        \n",
    "    return wd\n"
   ]
  },
  {
   "cell_type": "code",
   "execution_count": null,
   "metadata": {},
   "outputs": [],
   "source": [
    "nn = \"chris\"\n",
    "print(nn[0:3] + nn[3:])"
   ]
  },
  {
   "cell_type": "code",
   "execution_count": null,
   "metadata": {},
   "outputs": [],
   "source": [
    "s = \"transportation\"\n",
    "print(len(s))\n",
    "\n",
    "for i in range(100):    \n",
    "    nw_s = word_mix(s)\n",
    "    print(nw_s,\"  \",len(nw_s))\n"
   ]
  },
  {
   "cell_type": "code",
   "execution_count": null,
   "metadata": {},
   "outputs": [],
   "source": [
    "for i in range(30):\n",
    "    print(random.randint(0,4))"
   ]
  },
  {
   "cell_type": "code",
   "execution_count": null,
   "metadata": {},
   "outputs": [],
   "source": [
    "vl = \"nice\"\n",
    "        "
   ]
  },
  {
   "cell_type": "code",
   "execution_count": null,
   "metadata": {},
   "outputs": [],
   "source": [
    "rtTreeName = \"mdl_spelling\"\n",
    "avWords = wrl\n",
    "wdDic = {}"
   ]
  },
  {
   "cell_type": "code",
   "execution_count": null,
   "metadata": {},
   "outputs": [],
   "source": [
    "mdl = build_choose_and_train(avWords)"
   ]
  },
  {
   "cell_type": "code",
   "execution_count": null,
   "metadata": {},
   "outputs": [],
   "source": [
    "\n",
    "# write the code to save the model..\n",
    "# save_network(mdl,rtTreeName)\n",
    "\n",
    "all_wrds = avWords.all_words()\n",
    "\n",
    "#print(type(all_wrds),\"      \",type(all_wrds[0]))\n",
    "\n",
    "cat_w = get_category(mdl,all_wrds)\n",
    "\n",
    "for i,wrd in enumerate(all_wrds):\n",
    "    #print(wrd,\"  \",cat_w[i])\n",
    "    avWords.set_category(wrd,cat_w[i])\n",
    "   \n",
    "\n",
    "for i in range(5):\n",
    "    sb_tree = rtTreeName + \"_\" + str(i)\n",
    "    nw_wrl = avWords.filter_list(i)\n",
    "    for w in nw_wrl.all_words():\n",
    "        wdDic[w] = sb_tree\n",
    "    \n",
    "    print(\"category \",i,\" total word count \",len(nw_wrl.all_words()))\n",
    "    # recurse..\n",
    "    wrds = nw_wrl.all_words()\n",
    "    if len(wrds) > 0:\n",
    "        # recurse..\n",
    "        print(\"recursing on \",sb_tree)\n",
    "        # train_and_choose(sb_tree, nw_wrl, wdDic, maxDepth, btch_count"
   ]
  },
  {
   "cell_type": "code",
   "execution_count": null,
   "metadata": {},
   "outputs": [],
   "source": [
    "wdDic"
   ]
  },
  {
   "cell_type": "code",
   "execution_count": null,
   "metadata": {},
   "outputs": [],
   "source": [
    "save_network(mdl,\"test\")"
   ]
  },
  {
   "cell_type": "code",
   "execution_count": null,
   "metadata": {},
   "outputs": [],
   "source": [
    "mdl = best_move(ImgNet(5))\n",
    "load_data_into(mdl,\"test\")\n",
    "#mdl = load_network(\"test\")"
   ]
  },
  {
   "cell_type": "code",
   "execution_count": null,
   "metadata": {},
   "outputs": [],
   "source": [
    "wrl.set_category('bike',2)\n",
    "wrl.set_category('cause',2)\n",
    "wrl.set_category('clerk',2)"
   ]
  },
  {
   "cell_type": "code",
   "execution_count": null,
   "metadata": {},
   "outputs": [],
   "source": [
    "l = wrl.filter_list(2)"
   ]
  },
  {
   "cell_type": "code",
   "execution_count": null,
   "metadata": {},
   "outputs": [],
   "source": [
    "l.choose_words(3)"
   ]
  },
  {
   "cell_type": "code",
   "execution_count": null,
   "metadata": {},
   "outputs": [],
   "source": [
    "for i in range(1000):\n",
    "    print(random.random())"
   ]
  },
  {
   "cell_type": "code",
   "execution_count": null,
   "metadata": {},
   "outputs": [],
   "source": [
    "# ['tension', 'session']\n",
    "wd_e = encode_word(\"food\")"
   ]
  },
  {
   "cell_type": "code",
   "execution_count": null,
   "metadata": {},
   "outputs": [],
   "source": [
    "wd_e.shape"
   ]
  },
  {
   "cell_type": "code",
   "execution_count": null,
   "metadata": {},
   "outputs": [],
   "source": [
    "def display_im(im):\n",
    "    plt.figure(figsize=(25, 150),dpi=80)\n",
    "    plt.imshow(im)"
   ]
  },
  {
   "cell_type": "code",
   "execution_count": null,
   "metadata": {},
   "outputs": [],
   "source": [
    "display_im(wd_e)"
   ]
  },
  {
   "cell_type": "code",
   "execution_count": null,
   "metadata": {},
   "outputs": [],
   "source": [
    "wd_m = encode_word(\"wood\")"
   ]
  },
  {
   "cell_type": "code",
   "execution_count": null,
   "metadata": {},
   "outputs": [],
   "source": [
    "kys = load_keys()"
   ]
  },
  {
   "cell_type": "code",
   "execution_count": null,
   "metadata": {},
   "outputs": [],
   "source": [
    "mnv,mxv = min(kys['ky'].values()),max(kys['ky'].values())\n",
    "print(mnv, \" \",mxv)\n",
    "vl = mxv * 0.999\n",
    "nv = -1 + (2.0 / (mxv - mnv)) * (vl - mnv)\n",
    "print(nv)"
   ]
  },
  {
   "cell_type": "code",
   "execution_count": null,
   "metadata": {},
   "outputs": [],
   "source": [
    "display_im(wd_m)"
   ]
  },
  {
   "cell_type": "code",
   "execution_count": null,
   "metadata": {},
   "outputs": [],
   "source": []
  },
  {
   "cell_type": "code",
   "execution_count": null,
   "metadata": {},
   "outputs": [],
   "source": []
  },
  {
   "cell_type": "code",
   "execution_count": null,
   "metadata": {},
   "outputs": [],
   "source": []
  }
 ],
 "metadata": {
  "kernelspec": {
   "display_name": "Python 3",
   "language": "python",
   "name": "python3"
  },
  "language_info": {
   "codemirror_mode": {
    "name": "ipython",
    "version": 3
   },
   "file_extension": ".py",
   "mimetype": "text/x-python",
   "name": "python",
   "nbconvert_exporter": "python",
   "pygments_lexer": "ipython3",
   "version": "3.7.3"
  }
 },
 "nbformat": 4,
 "nbformat_minor": 2
}
