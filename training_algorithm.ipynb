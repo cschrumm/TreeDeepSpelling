{
 "cells": [
  {
   "cell_type": "code",
   "execution_count": 119,
   "metadata": {},
   "outputs": [],
   "source": [
    "import math\n",
    "import random\n",
    "import torch\n",
    "import matplotlib.pyplot as plt\n",
    "from scipy.spatial import distance\n",
    "import itertools\n",
    "import jellyfish\n",
    "import numpy as np"
   ]
  },
  {
   "cell_type": "code",
   "execution_count": 223,
   "metadata": {},
   "outputs": [],
   "source": [
    "%run partial_words.py\n",
    "%run core.py\n",
    "%run imgCls.py"
   ]
  },
  {
   "cell_type": "code",
   "execution_count": 7,
   "metadata": {},
   "outputs": [],
   "source": [
    "def choose_words(nm):\n",
    "    return random.choices(sbst,k=nm)\n",
    "\n"
   ]
  },
  {
   "cell_type": "code",
   "execution_count": 12,
   "metadata": {},
   "outputs": [
    {
     "data": {
      "text/plain": [
       "5000"
      ]
     },
     "execution_count": 12,
     "metadata": {},
     "output_type": "execute_result"
    }
   ],
   "source": [
    "len(choose_words(5000))"
   ]
  },
  {
   "cell_type": "code",
   "execution_count": null,
   "metadata": {},
   "outputs": [],
   "source": [
    "sbst"
   ]
  },
  {
   "cell_type": "code",
   "execution_count": null,
   "metadata": {},
   "outputs": [],
   "source": [
    "spl_Tree = {}"
   ]
  },
  {
   "cell_type": "code",
   "execution_count": 104,
   "metadata": {},
   "outputs": [
    {
     "name": "stdout",
     "output_type": "stream",
     "text": [
      "(1, 2)\n",
      "(1, 3)\n",
      "(1, 4)\n",
      "(1, 5)\n",
      "(2, 1)\n",
      "(2, 3)\n",
      "(2, 4)\n",
      "(2, 5)\n",
      "(3, 1)\n",
      "(3, 2)\n",
      "(3, 4)\n",
      "(3, 5)\n",
      "(4, 1)\n",
      "(4, 2)\n",
      "(4, 3)\n",
      "(4, 5)\n",
      "(5, 1)\n",
      "(5, 2)\n",
      "(5, 3)\n",
      "(5, 4)\n"
     ]
    }
   ],
   "source": [
    "for p in itertools.permutations([1,2,3,4,5],2):\n",
    "    print(p)"
   ]
  },
  {
   "cell_type": "code",
   "execution_count": 276,
   "metadata": {},
   "outputs": [],
   "source": [
    "\n",
    "def name_path(name):\n",
    "    return \"./net_data/\" + name + \".bin\"\n",
    "def save_network(ntwrk,name):\n",
    "    nt_path = name_path(name)\n",
    "    torch.save(ntwrk.state_dict(),nt_path)\n",
    "    return\n",
    "\n",
    "def load_network(name):\n",
    "    nt_pth = name_path(name)\n",
    "    return torch.load(nt_pth)\n",
    "\n",
    "\n",
    "def get_category(ntwrk,wrds,btch=64):\n",
    "    ntwrk.eval()\n",
    "    tmp = []\n",
    "    with torch.no_grad():\n",
    "        for b in batch(wrds,btch):\n",
    "            #print(b)\n",
    "            bts = word_batch(b)\n",
    "            tn_bts = numpy_to_tensor(bts)\n",
    "            #print(tensor_info(tn_bts))\n",
    "            rslts = ntwrk(tn_bts)\n",
    "            rv = rslts.argmax(dim=1)\n",
    "            #print(rv)\n",
    "            tmp.append(rslts.argmax(dim=1).cpu().numpy())\n",
    "        \n",
    "    return np.concatenate(tmp,axis=0)\n"
   ]
  },
  {
   "cell_type": "code",
   "execution_count": 254,
   "metadata": {},
   "outputs": [],
   "source": [
    "def build_net_opt_schedule():\n",
    "    ntwrk = ImgNet(5)\n",
    "    ntwrk = best_move(ntwrk)\n",
    "    optimizer = optim.Adadelta(ntwrk.parameters(), lr=1.0)\n",
    "    scheduler = StepLR(optimizer, step_size=1, gamma=0.7)\n",
    "    return (ntwrk,optimizer,scheduler)"
   ]
  },
  {
   "cell_type": "code",
   "execution_count": 16,
   "metadata": {},
   "outputs": [],
   "source": [
    "def batch(iterable, n=1):\n",
    "    l = len(iterable)\n",
    "    for ndx in range(0, l, n):\n",
    "        yield iterable[ndx:min(ndx + n, l)]"
   ]
  },
  {
   "cell_type": "code",
   "execution_count": 17,
   "metadata": {},
   "outputs": [],
   "source": [
    "# takes a list of words and returns a batch.\n",
    "def word_batch(wrds):\n",
    "    tmp = []\n",
    "    for wr in wrds:\n",
    "        wrd = encode_word(wr)\n",
    "        wrd = np.expand_dims(wrd,axis=0)\n",
    "        tmp.append(wrd)\n",
    "        \n",
    "    return np.stack(tmp,axis=0)"
   ]
  },
  {
   "cell_type": "code",
   "execution_count": 98,
   "metadata": {},
   "outputs": [
    {
     "name": "stdout",
     "output_type": "stream",
     "text": [
      "normal init..\n",
      "normal init..\n",
      "['Chris', 'Schrumm', 'Programmer', 'Test', 'Nice', 'Some', 'Zero', 'Whatever', 'Mouse', 'Other']\n",
      "tensor([4, 4, 4, 4, 4, 4, 4, 4, 4, 4], device='cuda:0')\n"
     ]
    },
    {
     "data": {
      "text/plain": [
       "array([[4, 4, 4, 4, 4, 4, 4, 4, 4, 4]])"
      ]
     },
     "execution_count": 98,
     "metadata": {},
     "output_type": "execute_result"
    }
   ],
   "source": [
    "im = ImgNet(5)\n",
    "im.apply(custom_init_weights)\n",
    "im = best_move(im)\n",
    "get_category(im,['Chris','Schrumm','Programmer','Test','Nice','Some','Zero','Whatever','Mouse','Other'])"
   ]
  },
  {
   "cell_type": "code",
   "execution_count": 88,
   "metadata": {},
   "outputs": [
    {
     "data": {
      "text/plain": [
       "(device(type='cuda', index=0), torch.Size([3]), torch.int64)"
      ]
     },
     "execution_count": 88,
     "metadata": {},
     "output_type": "execute_result"
    }
   ],
   "source": [
    "tensor_info(numpy_to_tensor(np.array([3,4,5])))"
   ]
  },
  {
   "cell_type": "code",
   "execution_count": 76,
   "metadata": {},
   "outputs": [],
   "source": [
    "ww = word_batch(['Chris','Schrumm'])"
   ]
  },
  {
   "cell_type": "code",
   "execution_count": 77,
   "metadata": {},
   "outputs": [],
   "source": [
    "def display_im(im):\n",
    "    plt.figure(figsize=(25, 150),dpi=80)\n",
    "    plt.imshow(im)"
   ]
  },
  {
   "cell_type": "code",
   "execution_count": 79,
   "metadata": {},
   "outputs": [
    {
     "data": {
      "image/png": "[encoded data removed]",
      "text/plain": [
       "<Figure size 2000x12000 with 1 Axes>"
      ]
     },
     "metadata": {
      "needs_background": "light"
     },
     "output_type": "display_data"
    }
   ],
   "source": [
    "display_im(ww[0][0])"
   ]
  },
  {
   "cell_type": "code",
   "execution_count": 34,
   "metadata": {},
   "outputs": [
    {
     "data": {
      "text/plain": [
       "(device(type='cpu'), torch.Size([3]), torch.int64)"
      ]
     },
     "execution_count": 34,
     "metadata": {},
     "output_type": "execute_result"
    }
   ],
   "source": [
    "tt = numpy_to_tensor(np.array([3,4,5]))\n",
    "tt.to(best_device())\n",
    "tensor_info(tt)"
   ]
  },
  {
   "cell_type": "code",
   "execution_count": 10,
   "metadata": {},
   "outputs": [
    {
     "data": {
      "text/plain": [
       "(2, 1, 3, 256)"
      ]
     },
     "execution_count": 10,
     "metadata": {},
     "output_type": "execute_result"
    }
   ],
   "source": [
    "word_batch([\"chris\",\"schrumm\"]).shape"
   ]
  },
  {
   "cell_type": "code",
   "execution_count": 8,
   "metadata": {},
   "outputs": [],
   "source": [
    "# rtTreeName contains the name of the network to load \n",
    "# avWords (instance of WordManage) contains the list of available words.\n",
    "# wdDic contains the chosen words root network choice\n",
    "# maxDepth\n",
    "def train_and_choose(rtTreeName,avWords,maxDepth,btch_count):\n",
    "    '''\n",
    "    1. Choose N words from avWords min(300,avWords.count)\n",
    "    2. Create a new instance of get_network with rtTreeName\n",
    "    3. For the chosen words do the following\n",
    "        A. find out the category 1 through (category_count) of the words\n",
    "        B. Now for train_batch count modify all the words using the initially selected\n",
    "           word as the target.\n",
    "    4. Now for all words in avWords assign them to on of the (categor_count) categories\n",
    "    5. Save the network.\n",
    "    6. If maxDepth <= 1 return..\n",
    "    7. For 1 to (cagtegory_count) number of categories:\n",
    "            maxDepth = maxDepth - 1\n",
    "            A. Select all the elements of chosen category from the avWords.filter_cat(category)\n",
    "               and append them to a new instance of avWords\n",
    "            B. If there is more then one element in a category...\n",
    "               B1. Recursively call train_and_choose with new avWords category and the sub network\n",
    "                   name netname_ + category_number\n",
    "            \n",
    "    '''\n",
    "    \n",
    "    # step 1\n",
    "    ws = avWords.choose(min(300,avWords.word_count()))\n",
    "    wrk_d = { w : 0 for w in ws }\n",
    "    \n",
    "    # step 2\n",
    "    ntwk = load_network(rtTreeName)\n",
    "    \n",
    "    # step 3 A.\n",
    "    for w in ws:\n",
    "        # get the category for the word.\n",
    "        cat = get_category(ntwk,w)\n",
    "        wrk_d[w] = cat\n",
    "    \n",
    "    for i in range(btch_count):\n",
    "        for w in ws:\n",
    "            # modify the word\n",
    "            mw,cat = (messup_word(w),wrk_d[w])\n",
    "            \n",
    "    # step 6\n",
    "    if maxDepth <= 1:\n",
    "        return\n",
    "    \n",
    "    return\n",
    "\n",
    "def spell_word(word,nd,wrList):\n",
    "    '''\n",
    "       NOT FINISHED...\n",
    "       1. Load the network name.\n",
    "       2. Find category for the word in the network.\n",
    "       3. If wrList.has_more_one(category)\n",
    "            with spell_word with word and netname_ + category_number\n",
    "          elif wrList.has_one(category):\n",
    "            \n",
    "           \n",
    "    '''\n",
    "    pass"
   ]
  },
  {
   "cell_type": "code",
   "execution_count": 13,
   "metadata": {},
   "outputs": [
    {
     "data": {
      "text/plain": [
       "30000"
      ]
     },
     "execution_count": 13,
     "metadata": {},
     "output_type": "execute_result"
    }
   ],
   "source": [
    "60*50*10"
   ]
  },
  {
   "cell_type": "code",
   "execution_count": 74,
   "metadata": {},
   "outputs": [],
   "source": []
  },
  {
   "cell_type": "code",
   "execution_count": 228,
   "metadata": {},
   "outputs": [],
   "source": [
    "wrl = WordManage()"
   ]
  },
  {
   "cell_type": "code",
   "execution_count": 229,
   "metadata": {},
   "outputs": [],
   "source": [
    "wrl.set_words(sbst,0)"
   ]
  },
  {
   "cell_type": "code",
   "execution_count": 230,
   "metadata": {},
   "outputs": [
    {
     "data": {
      "text/plain": [
       "1525"
      ]
     },
     "execution_count": 230,
     "metadata": {},
     "output_type": "execute_result"
    }
   ],
   "source": [
    "wrl.word_count()"
   ]
  },
  {
   "cell_type": "code",
   "execution_count": 221,
   "metadata": {},
   "outputs": [],
   "source": [
    "def remove_letter(wd):\n",
    "    if len(wd) < 5:\n",
    "        return wd\n",
    "    cs = random.randint(0,len(wd)-1)\n",
    "    return wd[0:cs] + wd[cs+1:]\n",
    "\n",
    "def swap_letter(wd):\n",
    "    if len(wd) < 3:\n",
    "        return wd\n",
    "    cs = random.randint(0,len(wd)-2)\n",
    "    wd = [w for w in wd]\n",
    "    t = wd[cs]\n",
    "    wd[cs] = wd[cs+1]\n",
    "    wd[cs+1] = t\n",
    "    \n",
    "    tmp = \"\"\n",
    "    for w in wd:\n",
    "        tmp += w\n",
    "        \n",
    "    return tmp\n",
    "\n",
    "def change_letter(wd):    \n",
    "    if len(wd) < 4:\n",
    "        return wd\n",
    "    \n",
    "    alpha = ['a','b','c','d','e','f','g', \\\n",
    "        'h','i','j','k','l','m','n','o','p','q','r', \\\n",
    "        's','t','u','v','w','x','y','z']\n",
    "    cs = random.randint(0,len(wd)-1)\n",
    "\n",
    "    wd = [w for w in wd]\n",
    "    \n",
    "    wd[cs] = alpha[random.randint(0,25)]\n",
    "    \n",
    "    tmp = \"\"\n",
    "    for w in wd:\n",
    "        tmp += w\n",
    "        \n",
    "    return tmp\n",
    "\n",
    "def drop_letter(wd):\n",
    "    if len(wd) < 5:\n",
    "        return wd\n",
    "    cs = random.randint(0,len(wd)-2)\n",
    "    \n",
    "    wd = [w for w in wd]\n",
    "    \n",
    "    wd[cs] = ' '\n",
    "    \n",
    "    tmp = \"\"\n",
    "    for w in wd:\n",
    "        tmp += w\n",
    "        \n",
    "    return tmp   \n",
    "\n",
    "def add_letter(wd):\n",
    "    if len(wd) < 3:\n",
    "        return wd\n",
    "    \n",
    "    #print(\"add letter\")\n",
    "    cs = random.randint(0,len(wd)-2)\n",
    "    \n",
    "    #wd = [w for w in wd]\n",
    "    \n",
    "    alpha = ['a','b','c','d','e','f','g', \\\n",
    "        'h','i','j','k','l','m','n','o','p','q','r', \\\n",
    "        's','t','u','v','w','x','y','z']\n",
    "    \n",
    "    #ln = len(wd)\n",
    "    wd = wd[0:cs] + alpha[random.randint(0,25)] + wd[cs:] \n",
    "           \n",
    "    return wd \n",
    "\n",
    "\n",
    "def word_mix(wd):\n",
    "    fc_ar = [remove_letter,swap_letter,change_letter,drop_letter,add_letter]\n",
    "    \n",
    "    wd = fc_ar[random.randint(0,4)](wd)\n",
    "    \n",
    "    if random.random() < 0.4:\n",
    "        wd = fc_ar[random.randint(0,4)](wd)\n",
    "        \n",
    "    if random.random() < 0.3:\n",
    "        wd = fc_ar[random.randint(0,4)](wd)\n",
    "        \n",
    "    if random.random() < 0.2:\n",
    "        wd = fc_ar[random.randint(0,4)](wd)\n",
    "        \n",
    "    return wd\n"
   ]
  },
  {
   "cell_type": "code",
   "execution_count": 205,
   "metadata": {},
   "outputs": [
    {
     "name": "stdout",
     "output_type": "stream",
     "text": [
      "chris\n"
     ]
    }
   ],
   "source": [
    "nn = \"chris\"\n",
    "print(nn[0:3] + nn[3:])"
   ]
  },
  {
   "cell_type": "code",
   "execution_count": 220,
   "metadata": {},
   "outputs": [
    {
     "name": "stdout",
     "output_type": "stream",
     "text": [
      "14\n",
      "transporta ion    14\n",
      "transpportation    15\n",
      "transport tion    14\n",
      "transportatcion    15\n",
      " rans p tation    14\n",
      "t asportation    13\n",
      "transpportatiqn    15\n",
      "tpransoprtation    15\n",
      "tansp rtation    13\n",
      "trnlasportation    15\n",
      "tqansportatio    13\n",
      "transportagion    14\n",
      "transport  ion    14\n",
      "t ansportation    14\n",
      "yransportation    14\n",
      "trazsportation    14\n",
      "transportatdob    14\n",
      "trmansportatijn    15\n",
      "transporation    13\n",
      "ctransportation    15\n",
      "tr nsportation    14\n",
      " arnsportation    14\n",
      "trntportation    13\n",
      "trlansportation    15\n",
      "transportatjion    15\n",
      "transqportation    15\n",
      "transpo rati n    14\n",
      "transpritation    14\n",
      "transporattion    14\n",
      "vrrnsportation    14\n",
      "transpotratiol    14\n",
      "transporation    13\n",
      "transmportatin    14\n",
      "trangspiortation    16\n",
      "t nsportation    13\n",
      "transportjtion    14\n",
      "transfortation    14\n",
      "rtnsportation    13\n",
      "trhanspoktation    15\n",
      "trns rtatifon    13\n",
      "trsnportation    13\n",
      "transposrtation    15\n",
      "tratlportaiton    14\n",
      "tqanlsportation    15\n",
      "ransportation    13\n",
      "transportatiol    14\n",
      "tranjpoxrtation    15\n",
      "ransportation    13\n",
      "trns orttion    12\n",
      "aransportation    14\n",
      "tr ntporattion    14\n",
      "trannsportation    15\n",
      "tran portation    14\n",
      "trans ortation    14\n",
      "transportatoin    14\n",
      "trannsportation    15\n",
      "transpyortation    15\n",
      "trnaspaortation    15\n",
      "transpuoration    14\n",
      "trnasportation    14\n",
      "transportatirn    14\n",
      "transpor rtion    14\n",
      "trasnportat on    14\n",
      "trasnportation    14\n",
      "trznsportati n    14\n",
      "tarnsportation    14\n",
      "trjanspotration    15\n",
      "traxnsprtation    14\n",
      "trap rotation    13\n",
      "tsransporthatlion    17\n",
      "transportatoi    13\n",
      "transpotration    14\n",
      "transpotat on    13\n",
      "transpo tation    14\n",
      "transpottation    14\n",
      "transomtation    13\n",
      "tranpsortation    14\n",
      "t ana portation    15\n",
      "trasnsportation    15\n",
      "trvnasportation    15\n",
      "transsportation    15\n",
      "transorat idon    14\n",
      "t dansportation    15\n",
      "t ansporttion    13\n",
      " ransportatio    13\n",
      "tarnsporta ion    14\n",
      "trasportat on    13\n",
      "transporttaiun    14\n",
      "t ansportation    14\n",
      "trynspoftation    14\n",
      "transporta ion    14\n",
      " tansportation    14\n",
      "transpxoratifn    14\n",
      "transporta gon    14\n",
      "transprotsat on    15\n",
      "transportatin    13\n",
      "ransporta ion    13\n",
      "traynsportation    15\n",
      "transportatiov    14\n",
      "tsranspojzation    15\n"
     ]
    }
   ],
   "source": [
    "s = \"transportation\"\n",
    "print(len(s))\n",
    "\n",
    "for i in range(100):    \n",
    "    nw_s = word_mix(s)\n",
    "    print(nw_s,\"  \",len(nw_s))\n"
   ]
  },
  {
   "cell_type": "code",
   "execution_count": 147,
   "metadata": {},
   "outputs": [
    {
     "name": "stdout",
     "output_type": "stream",
     "text": [
      "2\n",
      "1\n",
      "0\n",
      "3\n",
      "4\n",
      "4\n",
      "4\n",
      "1\n",
      "4\n",
      "0\n",
      "1\n",
      "4\n",
      "3\n",
      "0\n",
      "2\n",
      "2\n",
      "1\n",
      "3\n",
      "4\n",
      "2\n",
      "2\n",
      "2\n",
      "3\n",
      "3\n",
      "0\n",
      "2\n",
      "1\n",
      "0\n",
      "0\n",
      "2\n"
     ]
    }
   ],
   "source": [
    "for i in range(30):\n",
    "    print(random.randint(0,4))"
   ]
  },
  {
   "cell_type": "code",
   "execution_count": 141,
   "metadata": {},
   "outputs": [],
   "source": [
    "def total_string_distance(t):\n",
    "    tmp = []\n",
    "    for a,b in itertools.permutations(t,2):\n",
    "        tmp.append(jellyfish.damerau_levenshtein_distance(a,b) ** 2)        \n",
    "    return sum(tmp)\n",
    "\n",
    "def choose_spread_combo(nm,wrl):\n",
    "    bts = []\n",
    "    sms = []\n",
    "    for i in range(75):\n",
    "        t = wrl.choose_words(nm)\n",
    "        bts.append(t)\n",
    "        sms.append(total_string_distance(t))\n",
    "    # print(sms,np.argmax(sms))\n",
    "    return bts[np.argmax(sms)]\n",
    "            \n",
    "        "
   ]
  },
  {
   "cell_type": "code",
   "execution_count": 265,
   "metadata": {},
   "outputs": [],
   "source": [
    "def build_choose_and_train(wrl):\n",
    "    out_num = 5\n",
    "    targ_arr = []\n",
    "    in_arr = []\n",
    "    wrds = choose_spread_combo(out_num, wrl)\n",
    "    \n",
    "    for en,v in enumerate(wrds):\n",
    "        targ_arr.append(en)\n",
    "        wrd = encode_word(v)\n",
    "        wrd = np.expand_dims(wrd,axis=0)\n",
    "        in_arr.append(wrd)\n",
    "        \n",
    "    for i in range(1000):\n",
    "        for en,v in enumerate(wrds):\n",
    "            targ_arr.append(en)\n",
    "            wd = word_mix(v)\n",
    "            wrd = encode_word(wd)\n",
    "            wrd = np.expand_dims(wrd,axis=0)\n",
    "            in_arr.append(wrd)\n",
    "    tn_in, tn_trg  = np.stack(in_arr),np.array(targ_arr,dtype=np.long)\n",
    "    \n",
    "    epoch = 6\n",
    "    example_size = len(targ_arr)\n",
    "    example_indexes = [x for x in range(example_size)]\n",
    "    \n",
    "    model, optimizer, scheduler = build_net_opt_schedule()\n",
    "    \n",
    "    for i in range(epoch):\n",
    "        for b in batch(example_indexes,64):\n",
    "            #print(b[0],b[-1])\n",
    "            \n",
    "            optimizer.zero_grad()\n",
    "            \n",
    "            data = tn_in[b[0]:b[-1]]\n",
    "            target = tn_trg[b[0]:b[-1]]\n",
    "            \n",
    "            data = numpy_to_tensor(data)\n",
    "            target = numpy_to_tensor(target)\n",
    "            \n",
    "            output = model(data)\n",
    "            \n",
    "            loss = F.nll_loss(output,target)\n",
    "            loss.backward()\n",
    "            \n",
    "            optimizer.step()\n",
    "            \n",
    "        scheduler.step()\n",
    "        print(\"finished  epoch \", (i+1))\n",
    "    '''\n",
    "    model.train()\n",
    "    \n",
    "        optimizer.zero_grad()\n",
    "        output = model(data)\n",
    "        loss = F.nll_loss(output, target)\n",
    "        loss.backward()\n",
    "        optimizer.step()\n",
    "        \n",
    "    '''\n",
    "    return model\n",
    "\n"
   ]
  },
  {
   "cell_type": "code",
   "execution_count": 264,
   "metadata": {},
   "outputs": [
    {
     "name": "stdout",
     "output_type": "stream",
     "text": [
      "finished  epoch  1\n",
      "finished  epoch  2\n",
      "finished  epoch  3\n",
      "finished  epoch  4\n",
      "finished  epoch  5\n",
      "finished  epoch  6\n"
     ]
    }
   ],
   "source": [
    "mdl = build_choose_and_train(wrl)"
   ]
  },
  {
   "cell_type": "code",
   "execution_count": 274,
   "metadata": {},
   "outputs": [
    {
     "name": "stdout",
     "output_type": "stream",
     "text": [
      "['people', 'history', 'way', 'art', 'world', 'information', 'map', 'two', 'family', 'government', 'health', 'system', 'computer', 'meat', 'year', 'thanks', 'music', 'person', 'reading', 'method', 'data', 'food', 'understanding', 'theory', 'law', 'bird', 'literature', 'problem', 'software', 'control', 'knowledge', 'power', 'ability', 'economics', 'love', 'internet', 'television', 'science', 'library', 'nature', 'fact', 'product', 'idea', 'temperature', 'investment', 'area', 'society', 'activity', 'story', 'industry', 'media', 'thing', 'oven', 'community', 'definition', 'safety', 'quality', 'development', 'language', 'management', 'player', 'variety', 'video', 'week']\n",
      "tensor([0, 0, 2, 2, 0, 1, 2, 2, 0, 1, 0, 0, 0, 2, 2, 0, 2, 0, 0, 0, 2, 4, 3, 0,\n",
      "        2, 4, 1, 0, 0, 0, 1, 2, 0, 1, 2, 0, 1, 2, 0, 0, 0, 0, 2, 1, 1, 2, 0, 0,\n",
      "        0, 0, 2, 2, 0, 1, 1, 0, 0, 1, 0, 1, 0, 0, 0, 4], device='cuda:0')\n",
      "['security', 'country', 'exam', 'movie', 'organization', 'equipment', 'physics', 'analysis', 'policy', 'series', 'thought', 'basis', 'boyfriend', 'direction', 'strategy', 'technology', 'army', 'camera', 'freedom', 'paper', 'environment', 'child', 'instance', 'month', 'truth', 'marketing', 'university', 'writing', 'article', 'department', 'difference', 'goal', 'news', 'audience', 'fishing', 'growth', 'income', 'marriage', 'user', 'combination', 'failure', 'meaning', 'medicine', 'philosophy', 'teacher', 'communication', 'night', 'chemistry', 'disease', 'disk', 'energy', 'nation', 'road', 'role', 'soup', 'advertising', 'location', 'success', 'addition', 'apartment', 'education', 'math', 'moment', 'painting']\n",
      "tensor([0, 0, 4, 2, 1, 1, 0, 2, 0, 0, 0, 2, 1, 1, 1, 1, 4, 0, 0, 2, 1, 0, 0, 0,\n",
      "        2, 1, 1, 0, 0, 1, 1, 2, 4, 2, 0, 0, 0, 1, 2, 1, 2, 0, 0, 1, 0, 3, 0, 1,\n",
      "        2, 4, 0, 0, 2, 2, 2, 1, 0, 2, 0, 1, 1, 2, 0, 0], device='cuda:0')\n",
      "['politics', 'attention', 'decision', 'event', 'property', 'shopping', 'student', 'wood', 'competition', 'distribution', 'entertainment', 'office', 'population', 'president', 'unit', 'category', 'cigarette', 'context', 'introduction', 'opportunity', 'performance', 'driver', 'flight', 'length', 'magazine', 'newspaper', 'relationship', 'teaching', 'cell', 'dealer', 'finding', 'lake', 'member', 'message', 'phone', 'scene', 'appearance', 'association', 'concept', 'customer', 'death', 'discussion', 'housing', 'inflation', 'insurance', 'mood', 'woman', 'advice', 'blood', 'effort', 'expression', 'importance', 'opinion', 'payment', 'reality', 'responsibility', 'situation', 'skill', 'statement', 'wealth', 'application', 'city', 'county', 'depth']\n",
      "tensor([1, 1, 0, 2, 1, 0, 0, 4, 1, 1, 3, 2, 1, 1, 2, 1, 1, 0, 1, 1, 1, 0, 0, 4,\n",
      "        0, 1, 1, 0, 2, 2, 0, 2, 0, 0, 2, 2, 1, 1, 0, 0, 2, 1, 0, 1, 3, 4, 0, 2,\n",
      "        0, 0, 1, 1, 0, 0, 0, 3, 3, 2, 1, 0, 1, 4, 0, 2], device='cuda:0')\n",
      "['estate', 'foundation', 'grandmother', 'heart', 'perspective', 'photo', 'recipe', 'studio', 'topic', 'collection', 'depression', 'imagination', 'passion', 'percentage', 'resource', 'setting', 'ad', 'agency', 'college', 'connection', 'criticism', 'debt', 'description', 'memory', 'patience', 'secretary', 'solution', 'administration', 'aspect', 'attitude', 'director', 'personality', 'psychology', 'recommendation', 'response', 'selection', 'storage', 'version', 'alcohol', 'argument', 'complaint', 'contract', 'emphasis', 'highway', 'loss', 'membership', 'possession', 'preparation', 'steak', 'union', 'agreement', 'cancer', 'currency', 'employment', 'engineering', 'entry', 'interaction', 'mixture', 'preference', 'region', 'republic', 'tradition', 'virus', 'actor']\n",
      "tensor([0, 1, 1, 0, 1, 2, 4, 2, 2, 1, 1, 1, 0, 1, 2, 0, 2, 0, 0, 1, 1, 4, 1, 0,\n",
      "        0, 1, 0, 3, 0, 0, 0, 1, 1, 3, 2, 1, 0, 0, 0, 0, 1, 0, 2, 0, 2, 1, 1, 1,\n",
      "        4, 2, 1, 0, 1, 1, 1, 0, 1, 0, 1, 2, 0, 1, 2, 0], device='cuda:0')\n",
      "['classroom', 'delivery', 'device', 'difficulty', 'drama', 'election', 'engine', 'football', 'guidance', 'hotel', 'owner', 'priority', 'protection', 'suggestion', 'tension', 'variation', 'anxiety', 'atmosphere', 'awareness', 'bath', 'bread', 'candidate', 'climate', 'comparison', 'confusion', 'construction', 'elevator', 'emotion', 'employee', 'employer', 'guest', 'height', 'leadership', 'mall', 'manager', 'operation', 'recording', 'sample', 'transportation', 'charity', 'cousin', 'disaster', 'editor', 'efficiency', 'excitement', 'extent', 'feedback', 'guitar', 'homework', 'leader', 'mom', 'outcome', 'permission', 'presentation', 'promotion', 'reflection', 'refrigerator', 'resolution', 'revenue', 'session', 'singer', 'tennis', 'basket', 'bonus']\n",
      "tensor([1, 0, 2, 1, 2, 0, 2, 0, 0, 2, 2, 1, 1, 1, 0, 1, 0, 1, 1, 2, 0, 1, 0, 1,\n",
      "        1, 1, 0, 0, 0, 0, 2, 0, 1, 2, 0, 1, 1, 0, 3, 0, 0, 0, 2, 1, 1, 0, 1, 0,\n",
      "        1, 0, 2, 0, 1, 3, 1, 1, 1, 1, 0, 0, 0, 2, 0, 2], device='cuda:0')\n",
      "['cabinet', 'childhood', 'church', 'clothes', 'coffee', 'dinner', 'drawing', 'hair', 'hearing', 'initiative', 'judgment', 'lab', 'measurement', 'mode', 'mud', 'orange', 'poetry', 'police', 'possibility', 'procedure', 'queen', 'ratio', 'relation', 'restaurant', 'satisfaction', 'sector', 'signature', 'significance', 'song', 'tooth', 'town', 'vehicle', 'volume', 'wife', 'accident', 'airport', 'appointment', 'arrival', 'assumption', 'baseball', 'chapter', 'committee', 'conversation', 'database', 'enthusiasm', 'error', 'explanation', 'farmer', 'gate', 'girl', 'hall', 'historian', 'hospital', 'injury', 'instruction', 'maintenance', 'manufacturer', 'meal', 'perception', 'pie', 'poem', 'presence', 'proposal', 'reception']\n",
      "tensor([0, 1, 4, 0, 4, 2, 0, 2, 0, 1, 0, 2, 1, 2, 2, 0, 0, 0, 1, 1, 0, 2, 0, 1,\n",
      "        1, 0, 1, 1, 2, 2, 4, 0, 0, 4, 0, 0, 1, 0, 1, 0, 0, 1, 1, 0, 1, 2, 1, 2,\n",
      "        2, 4, 2, 1, 0, 4, 1, 1, 3, 2, 1, 2, 4, 0, 0, 0], device='cuda:0')\n",
      "['replacement', 'revolution', 'river', 'son', 'speech', 'tea', 'village', 'warning', 'winner', 'worker', 'writer', 'assistance', 'breath', 'buyer', 'chest', 'chocolate', 'conclusion', 'contribution', 'cookie', 'courage', 'dad', 'desk', 'drawer', 'establishment', 'examination', 'garbage', 'grocery', 'honey', 'impression', 'improvement', 'independence', 'insect', 'inspection', 'inspector', 'king', 'ladder', 'menu', 'penalty', 'piano', 'potato', 'profession', 'professor', 'quantity', 'reaction', 'requirement', 'salad', 'sister', 'supermarket', 'tongue', 'weakness', 'wedding', 'affair', 'ambition', 'analyst', 'apple', 'assignment', 'assistant', 'bathroom', 'bedroom', 'beer', 'birthday', 'celebration', 'championship', 'cheek']\n",
      "tensor([1, 1, 0, 2, 2, 2, 0, 0, 0, 0, 0, 1, 0, 2, 2, 3, 1, 1, 4, 0, 2, 4, 4, 3,\n",
      "        1, 0, 0, 0, 1, 1, 3, 2, 1, 1, 0, 2, 0, 0, 2, 2, 1, 1, 1, 0, 1, 0, 0, 1,\n",
      "        0, 0, 0, 0, 0, 2, 0, 1, 1, 0, 0, 2, 1, 1, 1, 0], device='cuda:0')\n",
      "['client', 'consequence', 'departure', 'diamond', 'dirt', 'ear', 'fortune', 'friendship', 'funeral', 'gene', 'girlfriend', 'hat', 'indication', 'intention', 'lady', 'midnight', 'negotiation', 'obligation', 'passenger', 'pizza', 'platform', 'poet', 'pollution', 'recognition', 'reputation', 'shirt', 'sir', 'speaker', 'stranger', 'surgery', 'sympathy', 'tale', 'throat', 'trainer', 'uncle', 'youth', 'time', 'work', 'film', 'water', 'money', 'example', 'while', 'business', 'study', 'game', 'life', 'form', 'air', 'day', 'place', 'number', 'part', 'field', 'fish', 'back', 'process', 'heat', 'hand', 'experience', 'job', 'book', 'end', 'point']\n",
      "tensor([2, 3, 1, 0, 2, 2, 0, 1, 0, 0, 1, 2, 1, 1, 4, 0, 1, 1, 1, 0, 1, 2, 1, 3,\n",
      "        1, 0, 2, 0, 0, 0, 0, 2, 0, 0, 2, 0, 2, 0, 4, 2, 0, 0, 2, 0, 4, 2, 2, 0,\n",
      "        2, 2, 0, 0, 0, 2, 0, 4, 2, 2, 2, 1, 2, 4, 2, 2], device='cuda:0')\n",
      "['type', 'home', 'economy', 'value', 'body', 'market', 'guide', 'interest', 'state', 'radio', 'course', 'company', 'price', 'size', 'card', 'list', 'mind', 'trade', 'line', 'care', 'group', 'risk', 'word', 'fat', 'force', 'key', 'light', 'training', 'name', 'school', 'top', 'amount', 'level', 'order', 'practice', 'research', 'sense', 'service', 'piece', 'web', 'boss', 'sport', 'fun', 'house', 'page', 'term', 'test', 'answer', 'sound', 'focus', 'matter', 'kind', 'soil', 'board', 'oil', 'picture', 'access', 'garden', 'range', 'rate', 'reason', 'future', 'site', 'demand']\n",
      "tensor([2, 2, 0, 0, 4, 0, 2, 0, 2, 2, 0, 0, 2, 4, 0, 2, 2, 0, 2, 2, 0, 4, 0, 2,\n",
      "        2, 2, 0, 0, 2, 0, 2, 0, 2, 2, 0, 1, 2, 2, 2, 2, 2, 0, 2, 2, 0, 0, 2, 4,\n",
      "        2, 2, 0, 0, 2, 0, 2, 0, 2, 0, 0, 2, 2, 0, 2, 0], device='cuda:0')\n",
      "['exercise', 'image', 'case', 'cause', 'coast', 'action', 'age', 'bad', 'boat', 'record', 'result', 'section', 'building', 'mouse', 'cash', 'class', 'nothing', 'period', 'plan', 'store', 'tax', 'side', 'subject', 'space', 'rule', 'stock', 'weather', 'chance', 'figure', 'man', 'model', 'source', 'beginning', 'earth', 'program', 'chicken', 'design', 'feature', 'head', 'material', 'purpose', 'question', 'rock', 'salt', 'act', 'birth', 'car', 'dog', 'object', 'scale', 'sun', 'note', 'profit', 'rent', 'speed', 'style', 'war', 'bank', 'craft', 'half', 'inside', 'outside', 'standard', 'bus']\n",
      "tensor([0, 0, 2, 2, 2, 0, 0, 2, 2, 0, 0, 0, 0, 2, 2, 2, 0, 0, 0, 2, 2, 2, 0, 2,\n",
      "        2, 0, 0, 0, 0, 2, 2, 0, 1, 2, 0, 0, 0, 0, 0, 0, 0, 0, 0, 2, 2, 2, 2, 2,\n",
      "        0, 2, 2, 2, 0, 2, 2, 2, 2, 4, 0, 4, 0, 2, 1, 2], device='cuda:0')\n",
      "['exchange', 'eye', 'fire', 'position', 'pressure', 'stress', 'advantage', 'benefit', 'box', 'frame', 'issue', 'step', 'cycle', 'face', 'item', 'metal', 'paint', 'review', 'room', 'screen', 'structure', 'view', 'account', 'ball', 'discipline', 'medium', 'share', 'balance', 'bit', 'black', 'bottom', 'choice', 'gift', 'impact', 'machine', 'shape', 'tool', 'wind', 'address', 'average', 'career', 'culture', 'morning', 'pot', 'sign', 'table', 'task', 'condition', 'contact', 'credit', 'egg', 'hope', 'ice', 'network', 'north', 'square', 'attempt', 'date', 'effect', 'link', 'post', 'star', 'voice', 'capital']\n",
      "tensor([0, 2, 2, 0, 0, 0, 1, 0, 2, 0, 2, 2, 2, 2, 2, 2, 0, 0, 2, 0, 0, 4, 0, 2,\n",
      "        1, 0, 2, 0, 2, 0, 0, 2, 4, 0, 0, 2, 2, 2, 0, 0, 0, 0, 0, 2, 2, 0, 4, 1,\n",
      "        0, 2, 2, 2, 2, 0, 2, 0, 0, 2, 0, 4, 0, 2, 2, 0], device='cuda:0')\n",
      "['challenge', 'friend', 'self', 'shot', 'brush', 'couple', 'debate', 'exit', 'front', 'function', 'lack', 'living', 'plant', 'plastic', 'spot', 'summer', 'taste', 'theme', 'track', 'wing', 'brain', 'button', 'click', 'desire', 'foot', 'gas', 'influence', 'notice', 'rain', 'wall', 'base', 'damage', 'distance', 'feeling', 'pair', 'savings', 'staff', 'sugar', 'target', 'text', 'animal', 'author', 'budget', 'discount', 'file', 'ground', 'lesson', 'minute', 'officer', 'phase', 'reference', 'register', 'sky', 'stage', 'stick', 'title', 'trouble', 'bowl', 'bridge', 'campaign', 'character', 'club', 'edge', 'evidence']\n",
      "tensor([1, 0, 4, 2, 0, 4, 2, 2, 2, 0, 0, 0, 0, 0, 2, 0, 2, 0, 0, 2, 0, 0, 0, 0,\n",
      "        2, 2, 1, 2, 2, 2, 2, 0, 0, 0, 4, 0, 4, 2, 2, 4, 2, 0, 0, 0, 2, 0, 0, 0,\n",
      "        0, 2, 1, 0, 0, 0, 0, 2, 0, 4, 0, 0, 1, 4, 2, 0], device='cuda:0')\n",
      "['fan', 'letter', 'lock', 'maximum', 'novel', 'option', 'pack', 'park', 'plenty', 'quarter', 'skin', 'sort', 'weight', 'baby', 'background', 'carry', 'dish', 'factor', 'fruit', 'glass', 'joint', 'master', 'muscle', 'red', 'strength', 'traffic', 'trip', 'vegetable', 'appeal', 'chart', 'gear', 'ideal', 'kitchen', 'land', 'log', 'mother', 'net', 'party', 'principle', 'relative', 'sale', 'season', 'signal', 'spirit', 'street', 'tree', 'wave', 'belt', 'bench', 'commission', 'copy', 'drop', 'minimum', 'path', 'progress', 'project', 'sea', 'south', 'status', 'stuff', 'ticket', 'tour', 'angle', 'blue']\n",
      "tensor([2, 0, 4, 0, 0, 0, 4, 0, 0, 0, 0, 0, 0, 4, 1, 0, 0, 0, 2, 2, 0, 0, 4, 2,\n",
      "        1, 0, 2, 1, 2, 0, 2, 2, 0, 2, 2, 0, 2, 0, 1, 0, 2, 2, 2, 0, 0, 0, 2, 2,\n",
      "        0, 1, 4, 0, 0, 0, 0, 0, 2, 2, 0, 4, 0, 2, 2, 4], device='cuda:0')\n",
      "['breakfast', 'confidence', 'daughter', 'degree', 'doctor', 'dot', 'dream', 'duty', 'essay', 'father', 'fee', 'finance', 'hour', 'juice', 'limit', 'luck', 'milk', 'mouth', 'peace', 'pipe', 'seat', 'stable', 'storm', 'substance', 'team', 'trick', 'afternoon', 'bat', 'beach', 'blank', 'catch', 'chain', 'consideration', 'cream', 'crew', 'detail', 'gold', 'interview', 'kid', 'mark', 'match', 'mission', 'pain', 'pleasure', 'score', 'screw', 'sex', 'shop', 'shower', 'suit', 'tone', 'window', 'agent', 'band', 'block', 'bone', 'calendar', 'cap', 'coat', 'contest', 'corner', 'court', 'cup', 'district']\n",
      "tensor([1, 1, 0, 0, 0, 2, 0, 4, 4, 0, 2, 0, 2, 2, 2, 4, 4, 0, 2, 2, 2, 0, 0, 1,\n",
      "        2, 0, 1, 2, 2, 0, 2, 2, 3, 0, 4, 2, 4, 1, 2, 4, 2, 0, 2, 0, 0, 4, 2, 2,\n",
      "        4, 2, 2, 0, 0, 2, 0, 2, 0, 2, 2, 0, 2, 0, 2, 1], device='cuda:0')\n",
      "['door', 'east', 'finger', 'garage', 'guarantee', 'hole', 'hook', 'implement', 'layer', 'lecture', 'lie', 'manner', 'meeting', 'nose', 'parking', 'partner', 'profile', 'respect', 'rice', 'routine', 'schedule', 'swimming', 'telephone', 'tip', 'winter', 'airline', 'bag', 'battle', 'bed', 'bill', 'bother', 'cake', 'code', 'curve', 'designer', 'dimension', 'dress', 'ease', 'emergency', 'evening', 'extension', 'farm', 'fight', 'gap', 'grade', 'holiday', 'horror', 'horse', 'host', 'husband', 'loan', 'mistake', 'mountain', 'nail', 'noise', 'occasion', 'package', 'patient', 'pause', 'phrase', 'proof', 'race', 'relief', 'sand']\n",
      "tensor([2, 2, 0, 0, 1, 2, 4, 1, 2, 0, 2, 2, 0, 2, 0, 0, 2, 0, 2, 0, 0, 0, 1, 2,\n",
      "        0, 0, 2, 0, 2, 0, 0, 2, 2, 2, 0, 1, 2, 2, 1, 0, 1, 4, 0, 2, 0, 0, 2, 2,\n",
      "        2, 0, 2, 0, 0, 2, 2, 2, 0, 0, 2, 2, 0, 2, 0, 2], device='cuda:0')\n",
      "['sentence', 'shoulder', 'smoke', 'stomach', 'string', 'tourist', 'towel', 'vacation', 'west', 'wheel', 'wine', 'arm', 'aside', 'associate', 'bet', 'blow', 'border', 'branch', 'breast', 'brother', 'buddy', 'bunch', 'chip', 'coach', 'cross', 'document', 'draft', 'dust', 'expert', 'floor', 'god', 'golf', 'habit', 'iron', 'judge', 'knife', 'landscape', 'league', 'mail', 'mess', 'native', 'opening', 'parent', 'pattern', 'pin', 'pool', 'pound', 'request', 'salary', 'shame', 'shelter', 'shoe', 'silver', 'tackle', 'tank', 'trust', 'assist', 'bake', 'bar', 'bell', 'bike', 'blame', 'boy', 'brick']\n",
      "tensor([0, 2, 4, 0, 0, 0, 2, 0, 2, 2, 2, 2, 2, 1, 2, 4, 2, 0, 0, 0, 0, 0, 0, 2,\n",
      "        2, 0, 4, 2, 0, 2, 2, 4, 2, 2, 0, 0, 1, 0, 2, 2, 0, 0, 0, 0, 2, 2, 0, 0,\n",
      "        0, 2, 2, 2, 2, 0, 4, 2, 0, 4, 2, 2, 0, 2, 2, 0], device='cuda:0')\n",
      "['chair', 'closet', 'clue', 'collar', 'comment', 'conference', 'devil', 'diet', 'fear', 'fuel', 'glove', 'jacket', 'lunch', 'monitor', 'mortgage', 'nurse', 'pace', 'panic', 'peak', 'plane', 'reward', 'row', 'sandwich', 'shock', 'spite', 'spray', 'surprise', 'till', 'transition', 'weekend', 'welcome', 'yard', 'alarm', 'bend', 'bicycle', 'bite', 'blind', 'bottle', 'cable', 'candle', 'clerk', 'cloud', 'concert', 'counter', 'flower', 'grandfather', 'harm', 'knee', 'lawyer', 'leather', 'load', 'mirror', 'neck', 'pension', 'plate', 'purple', 'ruin', 'ship', 'skirt', 'slice', 'snow', 'specialist', 'stroke', 'switch']\n",
      "tensor([2, 2, 4, 0, 0, 3, 2, 2, 2, 2, 2, 0, 2, 0, 0, 2, 2, 0, 2, 0, 0, 2, 0, 0,\n",
      "        2, 2, 2, 2, 1, 0, 0, 0, 0, 2, 0, 2, 2, 0, 0, 0, 0, 2, 0, 0, 0, 1, 0, 2,\n",
      "        4, 0, 2, 2, 2, 0, 0, 4, 2, 0, 0, 2, 4, 1, 0, 4], device='cuda:0')\n",
      "['trash', 'tune', 'zone', 'anger', 'award', 'bid', 'bitter', 'boot', 'bug', 'camp', 'candy', 'carpet', 'cat', 'champion', 'channel', 'clock', 'comfort', 'cow', 'crack', 'engineer', 'entrance', 'fault', 'grass', 'guy', 'hell', 'highlight', 'incident', 'island', 'joke', 'jury', 'leg', 'lip', 'mate', 'motor', 'nerve', 'passage', 'pen', 'pride', 'priest', 'prize', 'promise', 'resident', 'resort', 'ring', 'roof', 'rope', 'sail', 'scheme', 'script', 'sock', 'station', 'toe', 'tower', 'truck', 'witness', 'a', 'you', 'it', 'can', 'will', 'if', 'one', 'many', 'most']\n",
      "tensor([0, 2, 2, 0, 0, 2, 0, 2, 2, 4, 0, 2, 2, 0, 2, 0, 0, 2, 0, 0, 0, 0, 0, 2,\n",
      "        2, 1, 0, 0, 4, 4, 2, 2, 2, 2, 2, 0, 2, 2, 0, 0, 0, 2, 0, 2, 4, 2, 2, 0,\n",
      "        0, 4, 0, 2, 2, 4, 0, 2, 2, 2, 2, 2, 2, 2, 0, 2], device='cuda:0')\n",
      "['other', 'use', 'make', 'good', 'look', 'help', 'go', 'great', 'being', 'few', 'might', 'still', 'public', 'read', 'keep', 'start', 'give', 'human', 'local', 'general', 'she', 'specific', 'long', 'play', 'feel', 'high', 'tonight', 'put', 'common', 'set', 'change', 'simple', 'past', 'big', 'possible', 'particular', 'today', 'major', 'personal', 'current', 'national', 'cut', 'natural', 'physical', 'show', 'try', 'check', 'second', 'call', 'move', 'pay', 'let', 'increase', 'single', 'individual', 'turn', 'ask', 'buy', 'guard', 'hold', 'main', 'offer', 'potential', 'professional']\n",
      "tensor([2, 2, 2, 4, 4, 2, 2, 2, 2, 2, 0, 2, 0, 0, 4, 0, 2, 2, 2, 0, 2, 0, 2, 0,\n",
      "        2, 4, 0, 2, 0, 2, 0, 0, 2, 2, 0, 1, 4, 2, 0, 0, 0, 2, 0, 0, 4, 2, 0, 0,\n",
      "        2, 2, 2, 2, 2, 0, 1, 0, 2, 0, 0, 0, 2, 0, 1, 3], device='cuda:0')\n",
      "['international', 'travel', 'cook', 'alternative', 'following', 'special', 'working', 'whole', 'dance', 'excuse', 'cold', 'commercial', 'low', 'purchase', 'deal', 'primary', 'worth', 'fall', 'necessary', 'positive', 'produce', 'search', 'present', 'spend', 'talk', 'creative', 'tell', 'cost', 'drive', 'green', 'support', 'glad', 'remove', 'return', 'run', 'complex', 'due', 'effective', 'middle', 'regular', 'reserve', 'independent', 'leave', 'original', 'reach', 'rest', 'serve', 'watch', 'beautiful', 'charge', 'active', 'break', 'negative', 'safe', 'stay', 'visit', 'visual', 'affect', 'cover', 'report', 'rise', 'walk', 'white', 'beyond']\n",
      "tensor([3, 2, 4, 1, 1, 2, 0, 2, 2, 2, 0, 1, 2, 0, 2, 0, 0, 2, 1, 0, 0, 0, 2, 0,\n",
      "        4, 0, 2, 2, 2, 2, 0, 2, 0, 0, 2, 0, 2, 1, 4, 0, 0, 3, 2, 0, 2, 2, 2, 2,\n",
      "        1, 0, 0, 0, 0, 4, 4, 2, 0, 0, 0, 0, 2, 4, 2, 0], device='cuda:0')\n",
      "['junior', 'pick', 'unique', 'anything', 'classic', 'final', 'lift', 'mix', 'private', 'stop', 'teach', 'western', 'concern', 'familiar', 'fly', 'official', 'broad', 'comfortable', 'gain', 'maybe', 'rich', 'save', 'stand', 'young', 'fail', 'heavy', 'hello', 'lead', 'listen', 'valuable', 'worry', 'handle', 'leading', 'meet', 'release', 'sell', 'finish', 'normal', 'press', 'ride', 'secret', 'spread', 'spring', 'tough', 'wait', 'brown', 'deep', 'display', 'flow', 'hit', 'objective', 'shoot', 'touch', 'cancel', 'chemical', 'cry', 'dump', 'extreme', 'push', 'conflict', 'eat', 'fill', 'formal', 'jump']\n",
      "tensor([2, 4, 0, 0, 0, 2, 4, 2, 0, 2, 2, 0, 0, 0, 2, 0, 0, 1, 2, 0, 2, 2, 2, 2,\n",
      "        2, 4, 2, 2, 0, 0, 0, 0, 0, 2, 2, 2, 0, 0, 2, 2, 2, 0, 0, 4, 2, 4, 2, 0,\n",
      "        4, 2, 1, 2, 2, 0, 0, 2, 4, 0, 2, 0, 2, 2, 0, 4], device='cuda:0')\n",
      "['kick', 'opposite', 'pass', 'pitch', 'remote', 'total', 'treat', 'vast', 'abuse', 'beat', 'burn', 'deposit', 'print', 'raise', 'sleep', 'somewhere', 'advance', 'anywhere', 'consist', 'dark', 'double', 'draw', 'equal', 'fix', 'hire', 'internal', 'join', 'kill', 'sensitive', 'tap', 'win', 'attack', 'claim', 'constant', 'drag', 'drink', 'guess', 'minor', 'pull', 'raw', 'soft', 'solid', 'wear', 'weird', 'wonder', 'annual', 'count', 'dead', 'doubt', 'feed', 'forever', 'impress', 'nobody', 'repeat', 'round', 'sing', 'slide', 'strip', 'whereas', 'wish', 'combine', 'command', 'dig', 'divide']\n",
      "tensor([4, 0, 2, 2, 0, 2, 2, 2, 2, 2, 2, 0, 2, 2, 4, 1, 0, 0, 0, 4, 4, 4, 0, 0,\n",
      "        2, 0, 2, 2, 1, 2, 2, 0, 0, 0, 4, 0, 2, 2, 2, 2, 4, 2, 2, 0, 0, 4, 2, 2,\n",
      "        4, 2, 0, 0, 0, 2, 2, 2, 2, 0, 0, 0, 2, 0, 2, 2], device='cuda:0')\n",
      "['equivalent', 'hang', 'hunt', 'initial', 'march', 'mention', 'smell', 'spiritual', 'survey', 'tie', 'adult', 'brief', 'crazy', 'escape', 'gather', 'hate', 'prior', 'repair', 'rough', 'sad', 'scratch', 'sick', 'strike', 'employ', 'external', 'hurt', 'illegal', 'laugh', 'lay', 'mobile', 'nasty', 'ordinary', 'respond', 'royal', 'senior', 'split', 'strain', 'struggle', 'swim', 'train', 'upper', 'wash', 'yellow', 'convert', 'crash', 'dependent', 'fold', 'funny', 'grab', 'hide', 'miss', 'permit', 'quote', 'recover', 'resolve', 'roll', 'sink', 'slip', 'spare', 'suspect', 'sweet', 'swing', 'twist', 'upstairs']\n",
      "tensor([1, 2, 2, 0, 0, 0, 2, 1, 4, 2, 0, 0, 4, 2, 0, 2, 2, 0, 4, 2, 0, 4, 0, 0,\n",
      "        0, 2, 0, 4, 2, 0, 2, 0, 0, 2, 2, 2, 0, 0, 4, 2, 2, 4, 0, 0, 0, 1, 4, 0,\n",
      "        0, 2, 2, 0, 2, 0, 4, 2, 4, 2, 0, 0, 2, 0, 2, 1], device='cuda:0')\n",
      "['usual', 'abroad', 'brave', 'calm', 'concentrate', 'estimate', 'grand', 'male', 'mine', 'prompt', 'quiet', 'refuse', 'regret', 'reveal', 'rush', 'shake', 'shift', 'shine', 'steal', 'suck', 'surround', 'anybody', 'bear', 'brilliant', 'dare', 'dear', 'delay', 'drunk', 'female', 'hurry', 'inevitable', 'invite', 'kiss', 'neat', 'pop', 'punch', 'quit', 'reply', 'representative', 'resist', 'rip', 'rub', 'silly', 'smile', 'spell', 'stretch', 'stupid', 'tear', 'temporary', 'tomorrow', 'wake', 'wrap', 'yesterday']\n",
      "tensor([2, 0, 2, 0, 1, 2, 0, 2, 2, 0, 2, 2, 2, 2, 2, 4, 0, 0, 2, 4, 0, 0, 2, 1,\n",
      "        2, 2, 0, 4, 0, 0, 1, 2, 2, 2, 2, 0, 0, 2, 3, 0, 2, 2, 2, 2, 2, 0, 4, 2,\n",
      "        1, 1, 4, 0, 1], device='cuda:0')\n"
     ]
    }
   ],
   "source": [
    "cat_w = get_category(mdl,wrl.all_words())"
   ]
  },
  {
   "cell_type": "code",
   "execution_count": 275,
   "metadata": {},
   "outputs": [
    {
     "data": {
      "text/plain": [
       "array([0, 0, 2, 2, 0, 1, 2, 2, 0, 1, 0, 0, 0, 2, 2, 0, 2, 0, 0, 0, 2, 4,\n",
       "       3, 0, 2, 4, 1, 0, 0, 0, 1, 2, 0, 1, 2, 0, 1, 2, 0, 0, 0, 0, 2, 1,\n",
       "       1, 2, 0, 0, 0, 0])"
      ]
     },
     "execution_count": 275,
     "metadata": {},
     "output_type": "execute_result"
    }
   ],
   "source": [
    "cat_w[0:50]"
   ]
  },
  {
   "cell_type": "code",
   "execution_count": 59,
   "metadata": {},
   "outputs": [],
   "source": [
    "wrl.set_category('bike',2)\n",
    "wrl.set_category('cause',2)\n",
    "wrl.set_category('clerk',2)"
   ]
  },
  {
   "cell_type": "code",
   "execution_count": 61,
   "metadata": {},
   "outputs": [],
   "source": [
    "l = wrl.filter_list(2)"
   ]
  },
  {
   "cell_type": "code",
   "execution_count": 65,
   "metadata": {},
   "outputs": [
    {
     "data": {
      "text/plain": [
       "['clerk', 'cause', 'bike']"
      ]
     },
     "execution_count": 65,
     "metadata": {},
     "output_type": "execute_result"
    }
   ],
   "source": [
    "l.choose_words(3)"
   ]
  },
  {
   "cell_type": "code",
   "execution_count": null,
   "metadata": {},
   "outputs": [],
   "source": []
  }
 ],
 "metadata": {
  "kernelspec": {
   "display_name": "Python 3",
   "language": "python",
   "name": "python3"
  },
  "language_info": {
   "codemirror_mode": {
    "name": "ipython",
    "version": 3
   },
   "file_extension": ".py",
   "mimetype": "text/x-python",
   "name": "python",
   "nbconvert_exporter": "python",
   "pygments_lexer": "ipython3",
   "version": "3.7.3"
  }
 },
 "nbformat": 4,
 "nbformat_minor": 2
}
