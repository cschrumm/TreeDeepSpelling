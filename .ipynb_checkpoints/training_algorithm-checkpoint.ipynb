{
 "cells": [
  {
   "cell_type": "code",
   "execution_count": 92,
   "metadata": {},
   "outputs": [],
   "source": [
    "import math\n",
    "import random\n",
    "import torch"
   ]
  },
  {
   "cell_type": "code",
   "execution_count": 87,
   "metadata": {},
   "outputs": [],
   "source": [
    "%run partial_words.py\n",
    "%run core.py"
   ]
  },
  {
   "cell_type": "code",
   "execution_count": 7,
   "metadata": {},
   "outputs": [],
   "source": [
    "def choose_words(nm):\n",
    "    return random.choices(sbst,k=nm)\n",
    "\n"
   ]
  },
  {
   "cell_type": "code",
   "execution_count": 12,
   "metadata": {},
   "outputs": [
    {
     "data": {
      "text/plain": [
       "5000"
      ]
     },
     "execution_count": 12,
     "metadata": {},
     "output_type": "execute_result"
    }
   ],
   "source": [
    "len(choose_words(5000))"
   ]
  },
  {
   "cell_type": "code",
   "execution_count": null,
   "metadata": {},
   "outputs": [],
   "source": [
    "sbst"
   ]
  },
  {
   "cell_type": "code",
   "execution_count": null,
   "metadata": {},
   "outputs": [],
   "source": [
    "spl_Tree = {}"
   ]
  },
  {
   "cell_type": "code",
   "execution_count": 2,
   "metadata": {},
   "outputs": [],
   "source": []
  },
  {
   "cell_type": "code",
   "execution_count": 93,
   "metadata": {},
   "outputs": [],
   "source": [
    "def messup_words(wrd):\n",
    "    return wrd\n",
    "def get_network(nt_nm):\n",
    "    return None\n",
    "\n",
    "def name_path(name):\n",
    "    return \"./net_data/\" + name + \".bin\"\n",
    "def save_network(ntwrk,name):\n",
    "    nt_path = name_path(name)\n",
    "    torch.save(ntwrk,nt_path)\n",
    "    return\n",
    "\n",
    "def load_network(name):\n",
    "    nt_pth = name_path(name)\n",
    "    return torch.load(nt_pth)\n",
    "\n",
    "def get_category(ntwrk,wrd):\n",
    "    return 0\n"
   ]
  },
  {
   "cell_type": "code",
   "execution_count": 8,
   "metadata": {},
   "outputs": [],
   "source": [
    "# rtTreeName contains the name of the network to load \n",
    "# avWords (instance of WordManage) contains the list of available words.\n",
    "# wdDic contains the chosen words root network choice\n",
    "# maxDepth\n",
    "def train_and_choose(rtTreeName,avWords,maxDepth,btch_count):\n",
    "    '''\n",
    "    1. Choose N words from avWords min(300,avWords.count)\n",
    "    2. Create a new instance of get_network with rtTreeName\n",
    "    3. For the chosen words do the following\n",
    "        A. find out the category 1 through (category_count) of the words\n",
    "        B. Now for train_batch count modify all the words using the initially selected\n",
    "           word as the target.\n",
    "    4. Now for all words in avWords assign them to on of the (categor_count) categories\n",
    "    5. Save the network.\n",
    "    6. If maxDepth <= 1 return..\n",
    "    7. For 1 to (cagtegory_count) number of categories:\n",
    "            maxDepth = maxDepth - 1\n",
    "            A. Select all the elements of chosen category from the avWords.filter_cat(category)\n",
    "               and append them to a new instance of avWords\n",
    "            B. If there is more then one element in a category...\n",
    "               B1. Recursively call train_and_choose with new avWords category and the sub network\n",
    "                   name netname_ + category_number\n",
    "            \n",
    "    '''\n",
    "    \n",
    "    # step 1\n",
    "    ws = avWords.choose(min(300,avWords.word_count()))\n",
    "    wrk_d = { w : 0 for w in ws }\n",
    "    \n",
    "    # step 2\n",
    "    ntwk = load_network(rtTreeName)\n",
    "    \n",
    "    # step 3 A.\n",
    "    for w in ws:\n",
    "        cat = get_category(ntwk,w)\n",
    "        wrk_d[w] = cat\n",
    "    \n",
    "    for i in range(btch_count):\n",
    "        for w in ws:\n",
    "            \n",
    "    # step 6\n",
    "    if maxDepth <= 1:\n",
    "        return\n",
    "    \n",
    "    return\n",
    "\n",
    "def spell_word(word,nd,wrList):\n",
    "    '''\n",
    "       NOT FINISHED...\n",
    "       1. Load the network name.\n",
    "       2. Find category for the word in the network.\n",
    "       3. If wrList.has_more_one(category)\n",
    "            with spell_word with word and netname_ + category_number\n",
    "          elif wrList.has_one(category):\n",
    "            \n",
    "           \n",
    "    '''\n",
    "    pass"
   ]
  },
  {
   "cell_type": "code",
   "execution_count": 13,
   "metadata": {},
   "outputs": [
    {
     "data": {
      "text/plain": [
       "30000"
      ]
     },
     "execution_count": 13,
     "metadata": {},
     "output_type": "execute_result"
    }
   ],
   "source": [
    "60*50*10"
   ]
  },
  {
   "cell_type": "code",
   "execution_count": 74,
   "metadata": {},
   "outputs": [],
   "source": []
  },
  {
   "cell_type": "code",
   "execution_count": 88,
   "metadata": {},
   "outputs": [],
   "source": [
    "wrl = WordManage()"
   ]
  },
  {
   "cell_type": "code",
   "execution_count": 89,
   "metadata": {},
   "outputs": [],
   "source": [
    "wrl.set_words(sbst,0)"
   ]
  },
  {
   "cell_type": "code",
   "execution_count": 90,
   "metadata": {},
   "outputs": [
    {
     "data": {
      "text/plain": [
       "1525"
      ]
     },
     "execution_count": 90,
     "metadata": {},
     "output_type": "execute_result"
    }
   ],
   "source": [
    "wrl.word_count()"
   ]
  },
  {
   "cell_type": "code",
   "execution_count": 80,
   "metadata": {},
   "outputs": [
    {
     "data": {
      "text/plain": [
       "1525"
      ]
     },
     "execution_count": 80,
     "metadata": {},
     "output_type": "execute_result"
    }
   ],
   "source": [
    "len(wrl.all_words())"
   ]
  },
  {
   "cell_type": "code",
   "execution_count": 57,
   "metadata": {},
   "outputs": [
    {
     "data": {
      "text/plain": [
       "['president',\n",
       " 'horse',\n",
       " 'taste',\n",
       " 'lab',\n",
       " 'thanks',\n",
       " 'rent',\n",
       " 'pin',\n",
       " 'front',\n",
       " 'particular',\n",
       " 'effective',\n",
       " 'patient',\n",
       " 'assistance',\n",
       " 'cookie',\n",
       " 'maintenance',\n",
       " 'mission',\n",
       " 'quote',\n",
       " 'document',\n",
       " 'model',\n",
       " 'bug',\n",
       " 'market']"
      ]
     },
     "execution_count": 57,
     "metadata": {},
     "output_type": "execute_result"
    }
   ],
   "source": [
    "wrl.choose_words(20)"
   ]
  },
  {
   "cell_type": "code",
   "execution_count": 24,
   "metadata": {},
   "outputs": [
    {
     "data": {
      "text/plain": [
       "[2, 9, 3]"
      ]
     },
     "execution_count": 24,
     "metadata": {},
     "output_type": "execute_result"
    }
   ],
   "source": [
    "random.sample([2,3,4,5,6,9],3)"
   ]
  },
  {
   "cell_type": "code",
   "execution_count": 59,
   "metadata": {},
   "outputs": [],
   "source": [
    "wrl.set_category('bike',2)\n",
    "wrl.set_category('cause',2)\n",
    "wrl.set_category('clerk',2)"
   ]
  },
  {
   "cell_type": "code",
   "execution_count": 61,
   "metadata": {},
   "outputs": [],
   "source": [
    "l = wrl.filter_list(2)"
   ]
  },
  {
   "cell_type": "code",
   "execution_count": 65,
   "metadata": {},
   "outputs": [
    {
     "data": {
      "text/plain": [
       "['clerk', 'cause', 'bike']"
      ]
     },
     "execution_count": 65,
     "metadata": {},
     "output_type": "execute_result"
    }
   ],
   "source": [
    "l.choose_words(3)"
   ]
  },
  {
   "cell_type": "code",
   "execution_count": null,
   "metadata": {},
   "outputs": [],
   "source": []
  }
 ],
 "metadata": {
  "kernelspec": {
   "display_name": "Python 3",
   "language": "python",
   "name": "python3"
  },
  "language_info": {
   "codemirror_mode": {
    "name": "ipython",
    "version": 3
   },
   "file_extension": ".py",
   "mimetype": "text/x-python",
   "name": "python",
   "nbconvert_exporter": "python",
   "pygments_lexer": "ipython3",
   "version": "3.7.3"
  }
 },
 "nbformat": 4,
 "nbformat_minor": 2
}
